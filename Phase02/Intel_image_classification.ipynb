{
  "nbformat": 4,
  "nbformat_minor": 0,
  "metadata": {
    "accelerator": "GPU",
    "colab": {
      "name": "Intel_image_classification.ipynb",
      "provenance": [],
      "collapsed_sections": [],
      "mount_file_id": "19wZcPyGB1Itv9OmXjEEiu7UELKVEOedV",
      "authorship_tag": "ABX9TyO7jwIiRVAkIgDiuNFa6hmG",
      "include_colab_link": true
    },
    "kernelspec": {
      "display_name": "Python 3",
      "name": "python3"
    },
    "language_info": {
      "name": "python"
    }
  },
  "cells": [
    {
      "cell_type": "markdown",
      "metadata": {
        "id": "view-in-github",
        "colab_type": "text"
      },
      "source": [
        "<a href=\"https://colab.research.google.com/github/arminsoltan/mohaymen/blob/development/Phase02/Intel_image_classification.ipynb\" target=\"_parent\"><img src=\"https://colab.research.google.com/assets/colab-badge.svg\" alt=\"Open In Colab\"/></a>"
      ]
    },
    {
      "cell_type": "code",
      "metadata": {
        "id": "E7SNx5L-kUFW"
      },
      "source": [
        "import torchvision\n",
        "import torch\n",
        "from torchvision import transforms\n",
        "import pandas as pd\n",
        "import warnings\n",
        "import os\n",
        "from torchvision.datasets import ImageFolder\n",
        "import torch.nn as nn\n",
        "import torch.nn.functional as F\n",
        "import matplotlib.pyplot as plt\n",
        "from torchvision.transforms import ToTensor,Resize,Normalize\n",
        "import numpy as np"
      ],
      "execution_count": 63,
      "outputs": []
    },
    {
      "cell_type": "code",
      "metadata": {
        "id": "IANgUw_ikXpM"
      },
      "source": [
        "warnings.filterwarnings(\"ignore\")"
      ],
      "execution_count": 64,
      "outputs": []
    },
    {
      "cell_type": "code",
      "metadata": {
        "id": "q7ALSzUUFPtX"
      },
      "source": [
        "# !unzip \"/content/drive/MyDrive/dataset/Intel.zip\" -d \"/content/\""
      ],
      "execution_count": 65,
      "outputs": []
    },
    {
      "cell_type": "code",
      "metadata": {
        "id": "Csu42Hbmkk5R"
      },
      "source": [
        "# Hyper-parameters\n",
        "num_epochs = 1\n",
        "batch_size = 10\n",
        "learning_rate = 0.001\n"
      ],
      "execution_count": 66,
      "outputs": []
    },
    {
      "cell_type": "code",
      "metadata": {
        "colab": {
          "base_uri": "https://localhost:8080/"
        },
        "id": "qDjlRPdXk1GA",
        "outputId": "d3033242-b442-4c55-8f4b-6abb930441eb"
      },
      "source": [
        "# transform = transforms.Compose[transforms.ToTensor(), transforms.Normalize((0.5, 0.5, 0.5), (0.5, 0.5, 0.5))]\n",
        "train_dir = '/content/Intel/seg_train'\n",
        "test_dir = '/content/Intel/seg_test'\n",
        "outcomes = os.listdir(train_dir)\n",
        "print(outcomes)"
      ],
      "execution_count": 67,
      "outputs": [
        {
          "output_type": "stream",
          "text": [
            "['forest', 'sea', 'street', 'mountain', 'buildings', 'glacier']\n"
          ],
          "name": "stdout"
        }
      ]
    },
    {
      "cell_type": "code",
      "metadata": {
        "colab": {
          "base_uri": "https://localhost:8080/",
          "height": 232
        },
        "id": "QEaUVi2IJrdd",
        "outputId": "d4f56788-7334-4fca-cb41-e8a68a256a28"
      },
      "source": [
        "nums = {}\n",
        "for outcome in outcomes:\n",
        "  nums[outcome] = len(os.listdir(train_dir + '/' + outcome))\n",
        "image_per_class = pd.DataFrame(nums.values(), index=nums.keys(), columns=[\"no. of images\"])\n",
        "image_per_class"
      ],
      "execution_count": 68,
      "outputs": [
        {
          "output_type": "execute_result",
          "data": {
            "text/html": [
              "<div>\n",
              "<style scoped>\n",
              "    .dataframe tbody tr th:only-of-type {\n",
              "        vertical-align: middle;\n",
              "    }\n",
              "\n",
              "    .dataframe tbody tr th {\n",
              "        vertical-align: top;\n",
              "    }\n",
              "\n",
              "    .dataframe thead th {\n",
              "        text-align: right;\n",
              "    }\n",
              "</style>\n",
              "<table border=\"1\" class=\"dataframe\">\n",
              "  <thead>\n",
              "    <tr style=\"text-align: right;\">\n",
              "      <th></th>\n",
              "      <th>no. of images</th>\n",
              "    </tr>\n",
              "  </thead>\n",
              "  <tbody>\n",
              "    <tr>\n",
              "      <th>forest</th>\n",
              "      <td>2271</td>\n",
              "    </tr>\n",
              "    <tr>\n",
              "      <th>sea</th>\n",
              "      <td>2274</td>\n",
              "    </tr>\n",
              "    <tr>\n",
              "      <th>street</th>\n",
              "      <td>2382</td>\n",
              "    </tr>\n",
              "    <tr>\n",
              "      <th>mountain</th>\n",
              "      <td>2512</td>\n",
              "    </tr>\n",
              "    <tr>\n",
              "      <th>buildings</th>\n",
              "      <td>2191</td>\n",
              "    </tr>\n",
              "    <tr>\n",
              "      <th>glacier</th>\n",
              "      <td>2404</td>\n",
              "    </tr>\n",
              "  </tbody>\n",
              "</table>\n",
              "</div>"
            ],
            "text/plain": [
              "           no. of images\n",
              "forest              2271\n",
              "sea                 2274\n",
              "street              2382\n",
              "mountain            2512\n",
              "buildings           2191\n",
              "glacier             2404"
            ]
          },
          "metadata": {
            "tags": []
          },
          "execution_count": 68
        }
      ]
    },
    {
      "cell_type": "code",
      "metadata": {
        "colab": {
          "base_uri": "https://localhost:8080/",
          "height": 232
        },
        "id": "B9v9UpkVWBUW",
        "outputId": "c263f4e7-047e-4723-c60a-bbdc5f8fbd2d"
      },
      "source": [
        "nums_test = {}\n",
        "outcomes_test = os.listdir(test_dir)\n",
        "for outcome in outcomes_test:\n",
        "  nums_test[outcome] = len(os.listdir(test_dir + '/' + outcome))\n",
        "test_image_per_class = pd.DataFrame(nums_test.values(), index=nums_test.keys(), columns=[\"no. of test images\"])\n",
        "test_image_per_class"
      ],
      "execution_count": 69,
      "outputs": [
        {
          "output_type": "execute_result",
          "data": {
            "text/html": [
              "<div>\n",
              "<style scoped>\n",
              "    .dataframe tbody tr th:only-of-type {\n",
              "        vertical-align: middle;\n",
              "    }\n",
              "\n",
              "    .dataframe tbody tr th {\n",
              "        vertical-align: top;\n",
              "    }\n",
              "\n",
              "    .dataframe thead th {\n",
              "        text-align: right;\n",
              "    }\n",
              "</style>\n",
              "<table border=\"1\" class=\"dataframe\">\n",
              "  <thead>\n",
              "    <tr style=\"text-align: right;\">\n",
              "      <th></th>\n",
              "      <th>no. of test images</th>\n",
              "    </tr>\n",
              "  </thead>\n",
              "  <tbody>\n",
              "    <tr>\n",
              "      <th>forest</th>\n",
              "      <td>474</td>\n",
              "    </tr>\n",
              "    <tr>\n",
              "      <th>sea</th>\n",
              "      <td>510</td>\n",
              "    </tr>\n",
              "    <tr>\n",
              "      <th>street</th>\n",
              "      <td>501</td>\n",
              "    </tr>\n",
              "    <tr>\n",
              "      <th>mountain</th>\n",
              "      <td>525</td>\n",
              "    </tr>\n",
              "    <tr>\n",
              "      <th>buildings</th>\n",
              "      <td>437</td>\n",
              "    </tr>\n",
              "    <tr>\n",
              "      <th>glacier</th>\n",
              "      <td>553</td>\n",
              "    </tr>\n",
              "  </tbody>\n",
              "</table>\n",
              "</div>"
            ],
            "text/plain": [
              "           no. of test images\n",
              "forest                    474\n",
              "sea                       510\n",
              "street                    501\n",
              "mountain                  525\n",
              "buildings                 437\n",
              "glacier                   553"
            ]
          },
          "metadata": {
            "tags": []
          },
          "execution_count": 69
        }
      ]
    },
    {
      "cell_type": "code",
      "metadata": {
        "id": "8C6IWfe9DEHe"
      },
      "source": [
        "# from google.colab import drive\n",
        "# drive.mount('/content/drive')"
      ],
      "execution_count": 70,
      "outputs": []
    },
    {
      "cell_type": "code",
      "metadata": {
        "id": "fiR5Ac_hPN1d"
      },
      "source": [
        "transform = transforms.Compose([Resize((224,224)),\n",
        "                         ToTensor(),\n",
        "                         Normalize([0.5, 0.5, 0.5],[0.5, 0.5, 0.5])])"
      ],
      "execution_count": 71,
      "outputs": []
    },
    {
      "cell_type": "code",
      "metadata": {
        "id": "GpWOE_aTO1pP"
      },
      "source": [
        "train_data = ImageFolder(root=train_dir, transform=transform)\n",
        "test_data = ImageFolder(root=test_dir, transform=transform)"
      ],
      "execution_count": 72,
      "outputs": []
    },
    {
      "cell_type": "code",
      "metadata": {
        "id": "0sZeql2ePZlk"
      },
      "source": [
        "train_dataloader = torch.utils.data.DataLoader(train_data, batch_size=batch_size, shuffle=True)\n",
        "test_dataloader = torch.utils.data.DataLoader(test_data, batch_size=batch_size, shuffle=False)"
      ],
      "execution_count": 73,
      "outputs": []
    },
    {
      "cell_type": "code",
      "metadata": {
        "colab": {
          "base_uri": "https://localhost:8080/",
          "height": 302
        },
        "id": "O5Lx1Gc9c7Nk",
        "outputId": "bb3d25d6-3e2b-449b-98b5-efe3dd705cd8"
      },
      "source": [
        "samples, labels = iter(train_dataloader).next()\n",
        "sample = samples[0]\n",
        "sample = np.transpose(sample, (1, 2, 0))\n",
        "plt.imshow(sample)"
      ],
      "execution_count": 74,
      "outputs": [
        {
          "output_type": "stream",
          "text": [
            "Clipping input data to the valid range for imshow with RGB data ([0..1] for floats or [0..255] for integers).\n"
          ],
          "name": "stderr"
        },
        {
          "output_type": "execute_result",
          "data": {
            "text/plain": [
              "<matplotlib.image.AxesImage at 0x7fac066e0b50>"
            ]
          },
          "metadata": {
            "tags": []
          },
          "execution_count": 74
        },
        {
          "output_type": "display_data",
          "data": {
            "image/png": "[encoded data removed]",
            "text/plain": [
              "<Figure size 432x288 with 1 Axes>"
            ]
          },
          "metadata": {
            "tags": [],
            "needs_background": "light"
          }
        }
      ]
    },
    {
      "cell_type": "code",
      "metadata": {
        "colab": {
          "base_uri": "https://localhost:8080/"
        },
        "id": "gL76JOquexdu",
        "outputId": "4ec6a284-12fe-4ce1-8721-9d41e933b839"
      },
      "source": [
        "conv1 = nn.Conv2d(3, 6, 5)\n",
        "print(samples.shape)\n",
        "x = conv1(samples)\n",
        "print(x.shape)\n",
        "pool1 = nn.MaxPool2d(2, 2)\n",
        "x = pool1(x)\n",
        "print(x.shape)\n",
        "conv2 = nn.Conv2d(6, 16, 5)\n",
        "x = conv2(x)\n",
        "print(x.shape)\n",
        "x = pool1(x)\n",
        "print(x.shape)\n",
        "# x = x.view(-1, 16 * 106 * 106)\n",
        "# print(x.shape)\n"
      ],
      "execution_count": 75,
      "outputs": [
        {
          "output_type": "stream",
          "text": [
            "torch.Size([10, 3, 224, 224])\n",
            "torch.Size([10, 6, 220, 220])\n",
            "torch.Size([10, 6, 110, 110])\n",
            "torch.Size([10, 16, 106, 106])\n",
            "torch.Size([10, 16, 53, 53])\n"
          ],
          "name": "stdout"
        }
      ]
    },
    {
      "cell_type": "code",
      "metadata": {
        "id": "dc6HBl3zRENV"
      },
      "source": [
        "class ConvNet(nn.Module):\n",
        "  def __init__(self):\n",
        "    super(ConvNet, self).__init__()\n",
        "    self.conv1 = nn.Conv2d(3, 6, 5)\n",
        "    self.pool = nn.MaxPool2d(2, 2)\n",
        "    self.conv2 = nn.Conv2d(6, 16, 5)\n",
        "    self.fc1 = nn.Linear(16 * 53 * 53, 53 * 53)\n",
        "    self.fc2 = nn.Linear(53 * 53, 10 * 10)\n",
        "    self.fc3 = nn.Linear(10 * 10, 6)\n",
        "  \n",
        "  def forward(self, x):\n",
        "    x = self.pool(F.relu(self.conv1(x)))\n",
        "    x = self.pool(F.relu(self.conv2(x)))\n",
        "    x = x.view(-1, 16 * 53 * 53)\n",
        "    x = F.relu(self.fc1(x))\n",
        "    x = F.relu(self.fc2(x))\n",
        "    x = self.fc3(x)\n",
        "    return x"
      ],
      "execution_count": 76,
      "outputs": []
    },
    {
      "cell_type": "code",
      "metadata": {
        "id": "2kWqvhJH8oDT"
      },
      "source": [
        "PATH = \"/content/state_dict_model.pt\""
      ],
      "execution_count": 77,
      "outputs": []
    },
    {
      "cell_type": "code",
      "metadata": {
        "id": "yULi1OUtP18b"
      },
      "source": [
        "model = ConvNet()\n",
        "\n",
        "criterion = nn.CrossEntropyLoss()\n",
        "optimizer = torch.optim.SGD(model.parameters(), lr = learning_rate)\n",
        "\n",
        "model.train()\n",
        "\n",
        "n_total_steps = len(train_dataloader)\n",
        "for epoch in range(num_epochs):\n",
        "  for i, (images, labels) in enumerate(train_dataloader):\n",
        "    # print(labels.shape)\n",
        "    # print(labels[0])\n",
        "    # Forward pass\n",
        "    outputs = model(images)\n",
        "    loss = criterion(outputs, labels)\n",
        "\n",
        "    # Backward and optimize\n",
        "    optimizer.zero_grad()\n",
        "    loss.backward()\n",
        "    optimizer.step()\n",
        "torch.save(model.state_dict(), PATH)\n",
        "\n",
        "\n"
      ],
      "execution_count": 78,
      "outputs": []
    },
    {
      "cell_type": "code",
      "metadata": {
        "colab": {
          "base_uri": "https://localhost:8080/"
        },
        "id": "pf1qVA0o-OeB",
        "outputId": "4f5c1c38-f488-4bb6-cf7a-0b194e6fb068"
      },
      "source": [
        "model = ConvNet()\n",
        "model.load_state_dict(torch.load(PATH))\n",
        "model.eval()\n",
        "\n",
        "with torch.no_grad():\n",
        "  n_correct = 0\n",
        "  n_samples = 0\n",
        "  n_class_correct = [0 for i in range(6)]\n",
        "  n_class_samples = [0 for i in range(6)]\n",
        "\n",
        "  for images, labels in test_dataloader:\n",
        "    outputs = model(images)\n",
        "\n",
        "    _, predicted = torch.max(outputs, 1)\n",
        "    n_samples += labels.size(0)\n",
        "    n_correct += (labels == predicted).sum().item()\n",
        "\n",
        "    for i in range(batch_size):\n",
        "      label = labels[i]\n",
        "      pred = predicted[i]\n",
        "      if (label == pred):\n",
        "        n_class_correct[label] += 1\n",
        "      n_class_samples[label] += 1\n",
        "  acc = 100.0 * n_correct / n_samples\n",
        "  print(f\"accuracy for this model {acc:.4f}\")\n",
        "  \n",
        "  "
      ],
      "execution_count": 88,
      "outputs": [
        {
          "output_type": "stream",
          "text": [
            "accuracy for this model 52.2333\n"
          ],
          "name": "stdout"
        }
      ]
    }
  ]
}