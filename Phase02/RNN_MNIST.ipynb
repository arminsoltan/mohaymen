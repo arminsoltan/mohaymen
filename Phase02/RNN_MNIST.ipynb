{
  "nbformat": 4,
  "nbformat_minor": 0,
  "metadata": {
    "colab": {
      "name": "RNN_MNIST.ipynb",
      "provenance": [],
      "authorship_tag": "ABX9TyNE8aAm7BSpjHpVri1dq+QR",
      "include_colab_link": true
    },
    "kernelspec": {
      "name": "python3",
      "display_name": "Python 3"
    },
    "language_info": {
      "name": "python"
    }
  },
  "cells": [
    {
      "cell_type": "markdown",
      "metadata": {
        "id": "view-in-github",
        "colab_type": "text"
      },
      "source": [
        "<a href=\"https://colab.research.google.com/github/arminsoltan/mohaymen/blob/main/Phase02/RNN_MNIST.ipynb\" target=\"_parent\"><img src=\"https://colab.research.google.com/assets/colab-badge.svg\" alt=\"Open In Colab\"/></a>"
      ]
    },
    {
      "cell_type": "code",
      "metadata": {
        "id": "UM_C2V8E7JXI"
      },
      "source": [
        "import torch"
      ],
      "execution_count": 15,
      "outputs": []
    },
    {
      "cell_type": "code",
      "metadata": {
        "id": "-nzu2JtA7OW1"
      },
      "source": [
        "device = torch.device('cuda' if torch.cuda.is_available() else 'cpu')"
      ],
      "execution_count": 16,
      "outputs": []
    },
    {
      "cell_type": "code",
      "metadata": {
        "id": "B6hr_nI-7ba5"
      },
      "source": [
        "from torchvision import datasets\n",
        "from torchvision.transforms import ToTensor\n",
        "\n",
        "train_data = datasets.MNIST(\n",
        "    root = 'data',\n",
        "    train = True,\n",
        "    transform = ToTensor(),\n",
        "    download = True\n",
        ")\n",
        "\n",
        "test_data = datasets.MNIST(\n",
        "    root = 'data',\n",
        "    train = False,\n",
        "    transform = ToTensor()\n",
        ")"
      ],
      "execution_count": 17,
      "outputs": []
    },
    {
      "cell_type": "code",
      "metadata": {
        "colab": {
          "base_uri": "https://localhost:8080/",
          "height": 281
        },
        "id": "cjIPNSWB73gJ",
        "outputId": "35cf05f7-c264-4b7c-8f0d-fb75bf9a6535"
      },
      "source": [
        "import matplotlib.pyplot as plt\n",
        "\n",
        "plt.imshow(train_data.data[0], cmap='gray')\n",
        "plt.title(\"{}\".format(train_data.targets[0]))\n",
        "plt.show()"
      ],
      "execution_count": 18,
      "outputs": [
        {
          "output_type": "display_data",
          "data": {
            "image/png": "[encoded data removed]",
            "text/plain": [
              "<Figure size 432x288 with 1 Axes>"
            ]
          },
          "metadata": {
            "tags": [],
            "needs_background": "light"
          }
        }
      ]
    },
    {
      "cell_type": "code",
      "metadata": {
        "colab": {
          "base_uri": "https://localhost:8080/",
          "height": 177
        },
        "id": "QQ2I5SPt8NZV",
        "outputId": "ad4a78c6-e8ad-45d4-aa2e-6188747b4305"
      },
      "source": [
        "figure = plt.figure(figsize=(10, 8))\n",
        "cols, rows = 5, 5\n",
        "for i in range(1, cols * rows + 1):\n",
        "  sample_idx = torch.randint(len(train_data), size=(1,)).item()\n",
        "  img, label = train_data[sample_idx]\n",
        "  figure.add_subplot(rows, cols, 1)\n",
        "  plt.title(label)\n",
        "  plt.axis(\"off\")\n",
        "  plt.imshow(img.squeeze(), cmap=\"gray\")\n",
        "plt.show()"
      ],
      "execution_count": 19,
      "outputs": [
        {
          "output_type": "stream",
          "text": [
            "/usr/local/lib/python3.7/dist-packages/ipykernel_launcher.py:6: MatplotlibDeprecationWarning: Adding an axes using the same arguments as a previous axes currently reuses the earlier instance.  In a future version, a new instance will always be created and returned.  Meanwhile, this warning can be suppressed, and the future behavior ensured, by passing a unique label to each axes instance.\n",
            "  \n"
          ],
          "name": "stderr"
        },
        {
          "output_type": "display_data",
          "data": {
            "image/png": "[encoded data removed]",
            "text/plain": [
              "<Figure size 720x576 with 1 Axes>"
            ]
          },
          "metadata": {
            "tags": [],
            "needs_background": "light"
          }
        }
      ]
    },
    {
      "cell_type": "code",
      "metadata": {
        "id": "6OgBjD0V8qzv"
      },
      "source": [
        "from torch.utils.data import DataLoader\n",
        "\n",
        "loaders = {\n",
        "    'train' : torch.utils.data.DataLoader(train_data, batch_size=100, shuffle=True, num_workers=1),\n",
        "    'test': torch.utils.data.DataLoader(test_data, batch_size=100, shuffle=True, num_workers=1)\n",
        "}\n"
      ],
      "execution_count": 20,
      "outputs": []
    },
    {
      "cell_type": "code",
      "metadata": {
        "id": "2Z5avl8X9Dxs"
      },
      "source": [
        "from torch import nn\n",
        "import torch.nn.functional as F"
      ],
      "execution_count": 21,
      "outputs": []
    },
    {
      "cell_type": "code",
      "metadata": {
        "id": "LiyiRbGa9X8r"
      },
      "source": [
        "sequence_length = 28\n",
        "input_size = 28\n",
        "hidden_size = 28\n",
        "num_layers = 2\n",
        "num_classes = 10\n",
        "batch_size = 100\n",
        "num_epochs = 2\n",
        "learning_rate = 0.01"
      ],
      "execution_count": 22,
      "outputs": []
    },
    {
      "cell_type": "code",
      "metadata": {
        "id": "zy88-TS59tJv"
      },
      "source": [
        "class RNN(nn.Module):\n",
        "  def __init__(self, input_size, hidden_size, num_layers, num_classes):\n",
        "    super(RNN, self).__init__()\n",
        "    self.hidden_size = hidden_size\n",
        "    self.num_layers = num_layers\n",
        "    self.lstm = nn.LSTM(input_size, hidden_size, num_layers, batch_first=True)\n",
        "    self.fc = nn.Linear(hidden_size, num_classes)\n",
        "  \n",
        "  def forward(self, x):\n",
        "    h0 = torch.zeros(self.num_layers, x.size(0), self.hidden_size).to(device)\n",
        "    c0 = torch.zeros(self.num_layers, x.size(0), self.hidden_size).to(device)\n",
        "\n",
        "    out, hidden = self.lstm(x, (h0, c0))\n",
        "    out = self.fc(out[:, -1, :])\n",
        "\n",
        "    return out\n",
        "\n",
        "model = RNN(input_size, hidden_size, num_layers, num_classes).to(device).to(device)"
      ],
      "execution_count": 23,
      "outputs": []
    },
    {
      "cell_type": "code",
      "metadata": {
        "id": "NoKYwm_X_SUa"
      },
      "source": [
        "loss_func = nn.CrossEntropyLoss()"
      ],
      "execution_count": 24,
      "outputs": []
    },
    {
      "cell_type": "code",
      "metadata": {
        "id": "Jg4i4zc6_ans"
      },
      "source": [
        "from torch import optim\n",
        "\n",
        "optimizer = optim.Adam(model.parameters(), lr = 0.01)"
      ],
      "execution_count": 25,
      "outputs": []
    },
    {
      "cell_type": "code",
      "metadata": {
        "id": "lWHXI3Xs_gyI"
      },
      "source": [
        "from tqdm import tqdm\n",
        "def train(num_epochs, model, loaders):\n",
        "  print(\"num_epochs: {}\".format(num_epochs))\n",
        "  print(\"model: {}\".format(model))\n",
        "  print(\"{}: {}\".format(loaders['train'], loaders['test']))\n",
        "\n",
        "  model.train()\n",
        "  for epoch in tqdm(range(num_epochs)):\n",
        "    for i, (images, labels) in enumerate(loaders['train']):\n",
        "      images = images.reshape(-1, sequence_length, input_size).to(device)\n",
        "      labels = labels.to(device)\n",
        "\n",
        "      # Forward pass\n",
        "      outputs = model(images)\n",
        "      loss = loss_func(outputs, labels)\n",
        "\n",
        "      # Backward and optimize\n",
        "      optimizer.zero_grad()\n",
        "      loss.backward()\n",
        "      optimizer.step()"
      ],
      "execution_count": 26,
      "outputs": []
    },
    {
      "cell_type": "code",
      "metadata": {
        "colab": {
          "base_uri": "https://localhost:8080/"
        },
        "id": "Ies5y3kIOMBW",
        "outputId": "3a4364b5-5c53-4475-b94d-2fab36d632c6"
      },
      "source": [
        "model.train()\n",
        "train(num_epochs, model, loaders)"
      ],
      "execution_count": 29,
      "outputs": [
        {
          "output_type": "stream",
          "text": [
            "\n",
            "  0%|          | 0/2 [00:00<?, ?it/s]\u001b[A"
          ],
          "name": "stderr"
        },
        {
          "output_type": "stream",
          "text": [
            "num_epochs: 2\n",
            "model: RNN(\n",
            "  (lstm): LSTM(28, 28, num_layers=2, batch_first=True)\n",
            "  (fc): Linear(in_features=28, out_features=10, bias=True)\n",
            ")\n",
            "<torch.utils.data.dataloader.DataLoader object at 0x7f95573e2790>: <torch.utils.data.dataloader.DataLoader object at 0x7f95573e26d0>\n"
          ],
          "name": "stdout"
        },
        {
          "output_type": "stream",
          "text": [
            "\n",
            " 50%|█████     | 1/2 [00:20<00:20, 20.99s/it]\u001b[A\n",
            "100%|██████████| 2/2 [00:41<00:00, 20.86s/it]\n"
          ],
          "name": "stderr"
        }
      ]
    },
    {
      "cell_type": "code",
      "metadata": {
        "colab": {
          "base_uri": "https://localhost:8080/"
        },
        "id": "Urs1zTkfBmjs",
        "outputId": "1148c6b1-562d-41e1-c5b6-c841d3f49277"
      },
      "source": [
        "y_preds = list()\n",
        "y_true = list()\n",
        "model.eval()\n",
        "with torch.no_grad():\n",
        "  correct = 0 \n",
        "  total = 0\n",
        "  for images, labels in loaders['test']:\n",
        "    images = images.reshape(-1, sequence_length, input_size).to(device)\n",
        "    labels = labels.to(device)\n",
        "    outputs = model(images)\n",
        "    _, predicted = torch.max(outputs.data, 1)\n",
        "    total = total + labels.size(0)\n",
        "    correct = correct + (predicted == labels).sum().item()\n",
        "\n",
        "    for i in range(len(labels.numpy())):\n",
        "      y_preds.append(predicted[i].numpy())\n",
        "      y_true.append(labels[i].numpy())\n",
        "\n",
        "print(\"Test Accuracy of the model on the 10000 test images: {:.2f}\".format(100 * correct / total))"
      ],
      "execution_count": 44,
      "outputs": [
        {
          "output_type": "stream",
          "text": [
            "Test Accuracy of the model on the 10000 test images: 97.77\n"
          ],
          "name": "stdout"
        }
      ]
    },
    {
      "cell_type": "code",
      "metadata": {
        "colab": {
          "base_uri": "https://localhost:8080/",
          "height": 880
        },
        "id": "9MAralbxPD-1",
        "outputId": "92086926-392c-4fe5-817a-7a937d8368d4"
      },
      "source": [
        "import numpy as np\n",
        "import seaborn as sns\n",
        "import pandas as pd\n",
        "import matplotlib.pyplot as plt\n",
        "from sklearn.metrics import confusion_matrix\n",
        "# y_predictions = np.concatenate(y_preds)\n",
        "# y_trues = np.concatenate(y_true, axis=0)\n",
        "\n",
        "conf = confusion_matrix(y_true, y_preds)\n",
        "df = pd.DataFrame(conf, index=[str(i) for i in range(10)], columns=[str(i) for i in range(10)])\n",
        "plt.figure(figsize=(15, 15))\n",
        "sns.heatmap(df, annot=True)"
      ],
      "execution_count": 55,
      "outputs": [
        {
          "output_type": "execute_result",
          "data": {
            "text/plain": [
              "<matplotlib.axes._subplots.AxesSubplot at 0x7f9537b66a90>"
            ]
          },
          "metadata": {
            "tags": []
          },
          "execution_count": 55
        },
        {
          "output_type": "display_data",
          "data": {
            "image/png": "[encoded data removed]",
            "text/plain": [
              "<Figure size 1080x1080 with 2 Axes>"
            ]
          },
          "metadata": {
            "tags": [],
            "needs_background": "light"
          }
        }
      ]
    }
  ]
}