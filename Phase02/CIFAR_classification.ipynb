{
  "nbformat": 4,
  "nbformat_minor": 0,
  "metadata": {
    "colab": {
      "name": "CIFAR_classification.ipynb",
      "provenance": [],
      "authorship_tag": "ABX9TyPnxKPD1pd8Fg2XrSuAnuBU",
      "include_colab_link": true
    },
    "kernelspec": {
      "name": "python3",
      "display_name": "Python 3"
    },
    "language_info": {
      "name": "python"
    }
  },
  "cells": [
    {
      "cell_type": "markdown",
      "metadata": {
        "id": "view-in-github",
        "colab_type": "text"
      },
      "source": [
        "<a href=\"https://colab.research.google.com/github/arminsoltan/mohaymen/blob/main/Phase02/CIFAR_classification.ipynb\" target=\"_parent\"><img src=\"https://colab.research.google.com/assets/colab-badge.svg\" alt=\"Open In Colab\"/></a>"
      ]
    },
    {
      "cell_type": "code",
      "metadata": {
        "id": "Le62cXH8OymO"
      },
      "source": [
        "import torch\n",
        "import torch.nn as nn\n",
        "import numpy as np\n",
        "import torchvision\n",
        "from torchvision import transforms\n",
        "import warnings\n",
        "import torch.nn.functional as F"
      ],
      "execution_count": 12,
      "outputs": []
    },
    {
      "cell_type": "code",
      "metadata": {
        "id": "im5qfzhNWGAJ"
      },
      "source": [
        "warnings.filterwarnings(\"ignore\")"
      ],
      "execution_count": 13,
      "outputs": []
    },
    {
      "cell_type": "code",
      "metadata": {
        "id": "BZ1RUaooTQVx"
      },
      "source": [
        "# Hyper-parameters\n",
        "num_epochs = 5\n",
        "batch_size = 4\n",
        "learning_rate = 0.001"
      ],
      "execution_count": 14,
      "outputs": []
    },
    {
      "cell_type": "code",
      "metadata": {
        "colab": {
          "base_uri": "https://localhost:8080/"
        },
        "id": "EWpqPxdnTdLx",
        "outputId": "f83bdd8b-170a-408a-f61b-0d58218ba559"
      },
      "source": [
        "transform = transforms.Compose(\n",
        "    [transforms.ToTensor(),\n",
        "     transforms.Normalize((0.5, 0.5, 0.5), (0.5, 0.5, 0.5))])\n",
        "\n",
        "train_dataset = torchvision.datasets.CIFAR10(root='./data', train=True, download=True, transform=transform)\n",
        "\n",
        "test_dataset = torchvision.datasets.CIFAR10(root='./data', train=False, download=True, transform=transform)\n",
        "\n",
        "train_loader = torch.utils.data.DataLoader(train_dataset, batch_size=batch_size, shuffle=True)\n",
        "\n",
        "test_loader = torch.utils.data.DataLoader(test_dataset, batch_size=batch_size, shuffle=True)\n",
        "\n",
        "classes = ('plane', 'car', 'bird', 'cat', 'deer', 'dog', 'frog', 'horse', 'ship', 'truck')\n"
      ],
      "execution_count": 15,
      "outputs": [
        {
          "output_type": "stream",
          "text": [
            "Files already downloaded and verified\n",
            "Files already downloaded and verified\n"
          ],
          "name": "stdout"
        }
      ]
    },
    {
      "cell_type": "code",
      "metadata": {
        "id": "ER0SbzC5Ye7h"
      },
      "source": [
        "class ConvNet(nn.Module):\n",
        "  def __init__(self):\n",
        "    super(ConvNet, self).__init__()\n",
        "    self.conv1 = nn.Conv2d(3, 6, 5)\n",
        "    self.pool = nn.MaxPool2d(2, 2)\n",
        "    self.conv2 = nn.Conv2d(6, 16, 5)\n",
        "    self.fc1 = nn.Linear(16*5*5, 120)\n",
        "    self.fc2 = nn.Linear(120, 84)\n",
        "    self.fc3 = nn.Linear(84, 10)\n",
        "  \n",
        "  def forward(self, x):\n",
        "    x = self.pool(F.relu(self.conv1(x)))\n",
        "    x = self.pool(F.relu(self.conv2(x)))\n",
        "    x = x.view(-1, 16 * 5 * 5)\n",
        "    x = F.relu(self.fc1(x))\n",
        "    x = F.relu(self.fc2(x))\n",
        "    x = self.fc3(x)\n",
        "    return x"
      ],
      "execution_count": 16,
      "outputs": []
    },
    {
      "cell_type": "code",
      "metadata": {
        "colab": {
          "base_uri": "https://localhost:8080/"
        },
        "id": "aF025LSjV_cu",
        "outputId": "1b8fc9c8-c519-4f82-cb4d-65d6fa823ccd"
      },
      "source": [
        "model = ConvNet()\n",
        "\n",
        "criterion = nn.CrossEntropyLoss()\n",
        "optimizer = torch.optim.SGD(model.parameters(), lr=learning_rate)\n",
        "\n",
        "n_total_steps = len(train_loader)\n",
        "for epoch in range(num_epochs):\n",
        "  for i, (images, labels) in enumerate(train_loader):\n",
        "    # Forward pass\n",
        "    outputs = model(images)\n",
        "    loss = criterion(outputs, labels)\n",
        "\n",
        "    # Backward and optimize\n",
        "    optimizer.zero_grad()\n",
        "    loss.backward()\n",
        "    optimizer.step()\n",
        "\n",
        "    if (i+1) % 2000 == 0:\n",
        "      print (f'Epoch [{epoch+1}/{num_epochs}], Step [{i+1}/{n_total_steps}], Loss: {loss.item():.4f}')\n",
        "\n",
        "print(\"Finished Training\")\n",
        "PATH='./cnn.pth'\n",
        "torch.save(model.state_dict(), PATH)\n",
        "\n",
        "with torch.no_grad():\n",
        "  n_correct = 0\n",
        "  n_samples = 0\n",
        "  n_class_correct = [0 for i in range(10)]\n",
        "  n_class_samples = [0 for i in range(10)]\n",
        "  for images, labels in test_loader:\n",
        "    outputs = model(images)\n",
        "\n",
        "    _, predicted = torch.max(outputs, 1)\n",
        "    n_samples += labels.size(0)\n",
        "    n_correct += (predicted == labels).sum().item()\n",
        "\n",
        "    for i in range(batch_size):\n",
        "      label = labels[i]\n",
        "      pred = predicted[i]\n",
        "      if (label == pred):\n",
        "        n_class_correct[label] += 1\n",
        "      n_class_samples[label] += 1\n",
        "  \n",
        "  acc = 100.0 * n_correct / n_samples\n",
        "  print(f'Accuracy of the network: {acc} %')\n",
        "\n",
        "  for i in range(10):\n",
        "    acc = 100.0 * n_class_correct[i] / n_class_samples[i]\n",
        "    print(f'Accuracy of {classes[i]}:{acc} %')\n"
      ],
      "execution_count": 19,
      "outputs": [
        {
          "output_type": "stream",
          "text": [
            "Epoch [1/5], Step [2000/12500], Loss: 2.2984\n",
            "Epoch [1/5], Step [4000/12500], Loss: 2.3037\n",
            "Epoch [1/5], Step [6000/12500], Loss: 2.2825\n",
            "Epoch [1/5], Step [8000/12500], Loss: 2.3089\n",
            "Epoch [1/5], Step [10000/12500], Loss: 2.2693\n",
            "Epoch [1/5], Step [12000/12500], Loss: 2.2771\n",
            "Epoch [2/5], Step [2000/12500], Loss: 2.2688\n",
            "Epoch [2/5], Step [4000/12500], Loss: 2.2054\n",
            "Epoch [2/5], Step [6000/12500], Loss: 1.8588\n",
            "Epoch [2/5], Step [8000/12500], Loss: 2.1901\n",
            "Epoch [2/5], Step [10000/12500], Loss: 2.1492\n",
            "Epoch [2/5], Step [12000/12500], Loss: 1.8606\n",
            "Epoch [3/5], Step [2000/12500], Loss: 1.5159\n",
            "Epoch [3/5], Step [4000/12500], Loss: 1.3586\n",
            "Epoch [3/5], Step [6000/12500], Loss: 1.6538\n",
            "Epoch [3/5], Step [8000/12500], Loss: 1.4715\n",
            "Epoch [3/5], Step [10000/12500], Loss: 1.4329\n",
            "Epoch [3/5], Step [12000/12500], Loss: 1.0962\n",
            "Epoch [4/5], Step [2000/12500], Loss: 1.1129\n",
            "Epoch [4/5], Step [4000/12500], Loss: 1.7177\n",
            "Epoch [4/5], Step [6000/12500], Loss: 2.3615\n",
            "Epoch [4/5], Step [8000/12500], Loss: 1.2813\n",
            "Epoch [4/5], Step [10000/12500], Loss: 1.3682\n",
            "Epoch [4/5], Step [12000/12500], Loss: 1.6610\n",
            "Epoch [5/5], Step [2000/12500], Loss: 2.0332\n",
            "Epoch [5/5], Step [4000/12500], Loss: 1.1415\n",
            "Epoch [5/5], Step [6000/12500], Loss: 1.6529\n",
            "Epoch [5/5], Step [8000/12500], Loss: 0.9833\n",
            "Epoch [5/5], Step [10000/12500], Loss: 2.2735\n",
            "Epoch [5/5], Step [12000/12500], Loss: 1.4342\n",
            "Finished Training\n",
            "Accuracy of the network: 46.93 %\n",
            "Accuracy of plane:46.1 %\n",
            "Accuracy of car:52.6 %\n",
            "Accuracy of bird:28.1 %\n",
            "Accuracy of cat:30.2 %\n",
            "Accuracy of deer:38.9 %\n",
            "Accuracy of dog:29.7 %\n",
            "Accuracy of frog:67.3 %\n",
            "Accuracy of horse:60.6 %\n",
            "Accuracy of ship:65.6 %\n",
            "Accuracy of truck:50.2 %\n"
          ],
          "name": "stdout"
        }
      ]
    }
  ]
}