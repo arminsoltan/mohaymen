{
  "nbformat": 4,
  "nbformat_minor": 0,
  "metadata": {
    "colab": {
      "name": "Text_Classification.ipynb",
      "provenance": [],
      "mount_file_id": "1iJHosGjqiq2tM8s7KhUzpBfxCuXzY_0s",
      "authorship_tag": "ABX9TyMoJeJFtYfGLpKY2Ea+qu1S",
      "include_colab_link": true
    },
    "kernelspec": {
      "display_name": "Python 3",
      "name": "python3"
    },
    "language_info": {
      "name": "python"
    }
  },
  "cells": [
    {
      "cell_type": "markdown",
      "metadata": {
        "id": "view-in-github",
        "colab_type": "text"
      },
      "source": [
        "<a href=\"https://colab.research.google.com/github/arminsoltan/mohaymen/blob/main/Phase05/Text_Classification.ipynb\" target=\"_parent\"><img src=\"https://colab.research.google.com/assets/colab-badge.svg\" alt=\"Open In Colab\"/></a>"
      ]
    },
    {
      "cell_type": "code",
      "metadata": {
        "id": "hWGTbYU_Tv6V"
      },
      "source": [
        "!mkdir /content/ham\n",
        "!unrar x \"/content/drive/MyDrive/Mohaymen/Phase05/HAM2.rar\" \"/content/ham\""
      ],
      "execution_count": null,
      "outputs": []
    },
    {
      "cell_type": "code",
      "metadata": {
        "colab": {
          "base_uri": "https://localhost:8080/"
        },
        "id": "Dl2YPO2Rqkff",
        "outputId": "25f1338d-f654-474a-90ba-4cdc5c09340c"
      },
      "source": [
        "# !rm -r \"/content/ham\""
      ],
      "execution_count": null,
      "outputs": [
        {
          "name": "stdout",
          "output_type": "stream",
          "text": [
            "rm: cannot remove '/content/ham': No such file or directory\n"
          ]
        }
      ]
    },
    {
      "cell_type": "code",
      "metadata": {
        "id": "nBqg6ELQkpNs"
      },
      "source": [
        "# import os\n",
        "# original_path = '/content/ham/HAM2'\n",
        "# directories = os.listdir(original_path)\n",
        "# files = list()\n",
        "# index = 0\n",
        "# for dir in directories:\n",
        "#   path = original_path + '/' + dir\n",
        "#   files = os.listdir(path)\n",
        "#   for index, file in enumerate(files):\n",
        "#     os.rename(os.path.join(path, file), os.path.join(path, ''.join([str(index), '.csv'])))"
      ],
      "execution_count": null,
      "outputs": []
    },
    {
      "cell_type": "code",
      "metadata": {
        "colab": {
          "base_uri": "https://localhost:8080/",
          "height": 436
        },
        "id": "axbExtQZzg0E",
        "outputId": "cef2bd02-e4b6-4862-b59b-28cbb33b8f11"
      },
      "source": [
        "from bs4 import BeautifulSoup\n",
        "import pandas as pd\n",
        "\n",
        "data = pd.read_csv(\"/content/ham/HAM2/1996/0.csv\", error_bad_lines=False)\n",
        "data\n"
      ],
      "execution_count": null,
      "outputs": [
        {
          "ename": "FileNotFoundError",
          "evalue": "ignored",
          "output_type": "error",
          "traceback": [
            "\u001b[0;31m---------------------------------------------------------------------------\u001b[0m",
            "\u001b[0;31mFileNotFoundError\u001b[0m                         Traceback (most recent call last)",
            "\u001b[0;32m<ipython-input-105-c35018f4c61f>\u001b[0m in \u001b[0;36m<module>\u001b[0;34m()\u001b[0m\n\u001b[1;32m      2\u001b[0m \u001b[0;32mimport\u001b[0m \u001b[0mpandas\u001b[0m \u001b[0;32mas\u001b[0m \u001b[0mpd\u001b[0m\u001b[0;34m\u001b[0m\u001b[0;34m\u001b[0m\u001b[0m\n\u001b[1;32m      3\u001b[0m \u001b[0;34m\u001b[0m\u001b[0m\n\u001b[0;32m----> 4\u001b[0;31m \u001b[0mdata\u001b[0m \u001b[0;34m=\u001b[0m \u001b[0mpd\u001b[0m\u001b[0;34m.\u001b[0m\u001b[0mread_csv\u001b[0m\u001b[0;34m(\u001b[0m\u001b[0;34m\"/content/ham/HAM2/1996/0.csv\"\u001b[0m\u001b[0;34m,\u001b[0m \u001b[0merror_bad_lines\u001b[0m\u001b[0;34m=\u001b[0m\u001b[0;32mFalse\u001b[0m\u001b[0;34m)\u001b[0m\u001b[0;34m\u001b[0m\u001b[0;34m\u001b[0m\u001b[0m\n\u001b[0m\u001b[1;32m      5\u001b[0m \u001b[0mdata\u001b[0m\u001b[0;34m\u001b[0m\u001b[0;34m\u001b[0m\u001b[0m\n",
            "\u001b[0;32m/usr/local/lib/python3.7/dist-packages/pandas/io/parsers.py\u001b[0m in \u001b[0;36mread_csv\u001b[0;34m(filepath_or_buffer, sep, delimiter, header, names, index_col, usecols, squeeze, prefix, mangle_dupe_cols, dtype, engine, converters, true_values, false_values, skipinitialspace, skiprows, skipfooter, nrows, na_values, keep_default_na, na_filter, verbose, skip_blank_lines, parse_dates, infer_datetime_format, keep_date_col, date_parser, dayfirst, cache_dates, iterator, chunksize, compression, thousands, decimal, lineterminator, quotechar, quoting, doublequote, escapechar, comment, encoding, dialect, error_bad_lines, warn_bad_lines, delim_whitespace, low_memory, memory_map, float_precision)\u001b[0m\n\u001b[1;32m    686\u001b[0m     )\n\u001b[1;32m    687\u001b[0m \u001b[0;34m\u001b[0m\u001b[0m\n\u001b[0;32m--> 688\u001b[0;31m     \u001b[0;32mreturn\u001b[0m \u001b[0m_read\u001b[0m\u001b[0;34m(\u001b[0m\u001b[0mfilepath_or_buffer\u001b[0m\u001b[0;34m,\u001b[0m \u001b[0mkwds\u001b[0m\u001b[0;34m)\u001b[0m\u001b[0;34m\u001b[0m\u001b[0;34m\u001b[0m\u001b[0m\n\u001b[0m\u001b[1;32m    689\u001b[0m \u001b[0;34m\u001b[0m\u001b[0m\n\u001b[1;32m    690\u001b[0m \u001b[0;34m\u001b[0m\u001b[0m\n",
            "\u001b[0;32m/usr/local/lib/python3.7/dist-packages/pandas/io/parsers.py\u001b[0m in \u001b[0;36m_read\u001b[0;34m(filepath_or_buffer, kwds)\u001b[0m\n\u001b[1;32m    452\u001b[0m \u001b[0;34m\u001b[0m\u001b[0m\n\u001b[1;32m    453\u001b[0m     \u001b[0;31m# Create the parser.\u001b[0m\u001b[0;34m\u001b[0m\u001b[0;34m\u001b[0m\u001b[0;34m\u001b[0m\u001b[0m\n\u001b[0;32m--> 454\u001b[0;31m     \u001b[0mparser\u001b[0m \u001b[0;34m=\u001b[0m \u001b[0mTextFileReader\u001b[0m\u001b[0;34m(\u001b[0m\u001b[0mfp_or_buf\u001b[0m\u001b[0;34m,\u001b[0m \u001b[0;34m**\u001b[0m\u001b[0mkwds\u001b[0m\u001b[0;34m)\u001b[0m\u001b[0;34m\u001b[0m\u001b[0;34m\u001b[0m\u001b[0m\n\u001b[0m\u001b[1;32m    455\u001b[0m \u001b[0;34m\u001b[0m\u001b[0m\n\u001b[1;32m    456\u001b[0m     \u001b[0;32mif\u001b[0m \u001b[0mchunksize\u001b[0m \u001b[0;32mor\u001b[0m \u001b[0miterator\u001b[0m\u001b[0;34m:\u001b[0m\u001b[0;34m\u001b[0m\u001b[0;34m\u001b[0m\u001b[0m\n",
            "\u001b[0;32m/usr/local/lib/python3.7/dist-packages/pandas/io/parsers.py\u001b[0m in \u001b[0;36m__init__\u001b[0;34m(self, f, engine, **kwds)\u001b[0m\n\u001b[1;32m    946\u001b[0m             \u001b[0mself\u001b[0m\u001b[0;34m.\u001b[0m\u001b[0moptions\u001b[0m\u001b[0;34m[\u001b[0m\u001b[0;34m\"has_index_names\"\u001b[0m\u001b[0;34m]\u001b[0m \u001b[0;34m=\u001b[0m \u001b[0mkwds\u001b[0m\u001b[0;34m[\u001b[0m\u001b[0;34m\"has_index_names\"\u001b[0m\u001b[0;34m]\u001b[0m\u001b[0;34m\u001b[0m\u001b[0;34m\u001b[0m\u001b[0m\n\u001b[1;32m    947\u001b[0m \u001b[0;34m\u001b[0m\u001b[0m\n\u001b[0;32m--> 948\u001b[0;31m         \u001b[0mself\u001b[0m\u001b[0;34m.\u001b[0m\u001b[0m_make_engine\u001b[0m\u001b[0;34m(\u001b[0m\u001b[0mself\u001b[0m\u001b[0;34m.\u001b[0m\u001b[0mengine\u001b[0m\u001b[0;34m)\u001b[0m\u001b[0;34m\u001b[0m\u001b[0;34m\u001b[0m\u001b[0m\n\u001b[0m\u001b[1;32m    949\u001b[0m \u001b[0;34m\u001b[0m\u001b[0m\n\u001b[1;32m    950\u001b[0m     \u001b[0;32mdef\u001b[0m \u001b[0mclose\u001b[0m\u001b[0;34m(\u001b[0m\u001b[0mself\u001b[0m\u001b[0;34m)\u001b[0m\u001b[0;34m:\u001b[0m\u001b[0;34m\u001b[0m\u001b[0;34m\u001b[0m\u001b[0m\n",
            "\u001b[0;32m/usr/local/lib/python3.7/dist-packages/pandas/io/parsers.py\u001b[0m in \u001b[0;36m_make_engine\u001b[0;34m(self, engine)\u001b[0m\n\u001b[1;32m   1178\u001b[0m     \u001b[0;32mdef\u001b[0m \u001b[0m_make_engine\u001b[0m\u001b[0;34m(\u001b[0m\u001b[0mself\u001b[0m\u001b[0;34m,\u001b[0m \u001b[0mengine\u001b[0m\u001b[0;34m=\u001b[0m\u001b[0;34m\"c\"\u001b[0m\u001b[0;34m)\u001b[0m\u001b[0;34m:\u001b[0m\u001b[0;34m\u001b[0m\u001b[0;34m\u001b[0m\u001b[0m\n\u001b[1;32m   1179\u001b[0m         \u001b[0;32mif\u001b[0m \u001b[0mengine\u001b[0m \u001b[0;34m==\u001b[0m \u001b[0;34m\"c\"\u001b[0m\u001b[0;34m:\u001b[0m\u001b[0;34m\u001b[0m\u001b[0;34m\u001b[0m\u001b[0m\n\u001b[0;32m-> 1180\u001b[0;31m             \u001b[0mself\u001b[0m\u001b[0;34m.\u001b[0m\u001b[0m_engine\u001b[0m \u001b[0;34m=\u001b[0m \u001b[0mCParserWrapper\u001b[0m\u001b[0;34m(\u001b[0m\u001b[0mself\u001b[0m\u001b[0;34m.\u001b[0m\u001b[0mf\u001b[0m\u001b[0;34m,\u001b[0m \u001b[0;34m**\u001b[0m\u001b[0mself\u001b[0m\u001b[0;34m.\u001b[0m\u001b[0moptions\u001b[0m\u001b[0;34m)\u001b[0m\u001b[0;34m\u001b[0m\u001b[0;34m\u001b[0m\u001b[0m\n\u001b[0m\u001b[1;32m   1181\u001b[0m         \u001b[0;32melse\u001b[0m\u001b[0;34m:\u001b[0m\u001b[0;34m\u001b[0m\u001b[0;34m\u001b[0m\u001b[0m\n\u001b[1;32m   1182\u001b[0m             \u001b[0;32mif\u001b[0m \u001b[0mengine\u001b[0m \u001b[0;34m==\u001b[0m \u001b[0;34m\"python\"\u001b[0m\u001b[0;34m:\u001b[0m\u001b[0;34m\u001b[0m\u001b[0;34m\u001b[0m\u001b[0m\n",
            "\u001b[0;32m/usr/local/lib/python3.7/dist-packages/pandas/io/parsers.py\u001b[0m in \u001b[0;36m__init__\u001b[0;34m(self, src, **kwds)\u001b[0m\n\u001b[1;32m   2008\u001b[0m         \u001b[0mkwds\u001b[0m\u001b[0;34m[\u001b[0m\u001b[0;34m\"usecols\"\u001b[0m\u001b[0;34m]\u001b[0m \u001b[0;34m=\u001b[0m \u001b[0mself\u001b[0m\u001b[0;34m.\u001b[0m\u001b[0musecols\u001b[0m\u001b[0;34m\u001b[0m\u001b[0;34m\u001b[0m\u001b[0m\n\u001b[1;32m   2009\u001b[0m \u001b[0;34m\u001b[0m\u001b[0m\n\u001b[0;32m-> 2010\u001b[0;31m         \u001b[0mself\u001b[0m\u001b[0;34m.\u001b[0m\u001b[0m_reader\u001b[0m \u001b[0;34m=\u001b[0m \u001b[0mparsers\u001b[0m\u001b[0;34m.\u001b[0m\u001b[0mTextReader\u001b[0m\u001b[0;34m(\u001b[0m\u001b[0msrc\u001b[0m\u001b[0;34m,\u001b[0m \u001b[0;34m**\u001b[0m\u001b[0mkwds\u001b[0m\u001b[0;34m)\u001b[0m\u001b[0;34m\u001b[0m\u001b[0;34m\u001b[0m\u001b[0m\n\u001b[0m\u001b[1;32m   2011\u001b[0m         \u001b[0mself\u001b[0m\u001b[0;34m.\u001b[0m\u001b[0munnamed_cols\u001b[0m \u001b[0;34m=\u001b[0m \u001b[0mself\u001b[0m\u001b[0;34m.\u001b[0m\u001b[0m_reader\u001b[0m\u001b[0;34m.\u001b[0m\u001b[0munnamed_cols\u001b[0m\u001b[0;34m\u001b[0m\u001b[0;34m\u001b[0m\u001b[0m\n\u001b[1;32m   2012\u001b[0m \u001b[0;34m\u001b[0m\u001b[0m\n",
            "\u001b[0;32mpandas/_libs/parsers.pyx\u001b[0m in \u001b[0;36mpandas._libs.parsers.TextReader.__cinit__\u001b[0;34m()\u001b[0m\n",
            "\u001b[0;32mpandas/_libs/parsers.pyx\u001b[0m in \u001b[0;36mpandas._libs.parsers.TextReader._setup_parser_source\u001b[0;34m()\u001b[0m\n",
            "\u001b[0;31mFileNotFoundError\u001b[0m: [Errno 2] No such file or directory: '/content/ham/HAM2/1996/0.csv'"
          ]
        }
      ]
    },
    {
      "cell_type": "code",
      "metadata": {
        "id": "dwkJhDrY9W0m"
      },
      "source": [
        "!rm -r /content/ham_csv"
      ],
      "execution_count": 16,
      "outputs": []
    },
    {
      "cell_type": "code",
      "metadata": {
        "id": "cQUTTpzg8ScW"
      },
      "source": [
        "!mkdir /content/ham_csv\n",
        "!mkdir /content/ham_csv/HAM2"
      ],
      "execution_count": 17,
      "outputs": []
    },
    {
      "cell_type": "code",
      "metadata": {
        "colab": {
          "base_uri": "https://localhost:8080/",
          "height": 1000
        },
        "id": "PguqYlEtD7Wl",
        "outputId": "07712b77-272c-4cd6-c38f-52f8a6c4d898"
      },
      "source": [
        "from xml.etree import ElementTree as ET\n",
        "import pandas as pd\n",
        "import os\n",
        "\n",
        "original_path = '/content/ham/HAM2'\n",
        "csv_path = '/content/ham_csv/HAM2'\n",
        "directories = os.listdir(original_path)\n",
        "cnt = 0\n",
        "df = pd.DataFrame()\n",
        "for dir in directories:\n",
        "  path = original_path + '/' + dir\n",
        "  files = os.listdir(path)\n",
        "  print(dir)\n",
        "  for index, file in enumerate(files):\n",
        "    if \"xml\" not in file:\n",
        "      continue\n",
        "    try:\n",
        "      tree = ET.parse(os.path.join(path, file))\n",
        "    except Exception as err:\n",
        "      print(file, err)\n",
        "      continue\n",
        "    root = tree.getroot()\n",
        "    df2 = {}\n",
        "    for doc in root:\n",
        "      for child in doc:\n",
        "        if child.tag == 'TEXT':\n",
        "          df2['content'] = child.text\n",
        "        if child.tag == 'TITLE':\n",
        "          df2['title'] = child.text\n",
        "        if child.tag == 'CAT' and child.items()[0][1] == 'fa':\n",
        "          df2['category'] = child.text\n",
        "\n",
        "    df2[\"year\"] = dir\n",
        "    df = df.append(df2, ignore_index=True)\n",
        "    df.to_csv(csv_path+\"/\"+str(index)+\".csv\")\n",
        "    # cnt += 1\n",
        "df = df.replace('\\n', '', regex=True)\n",
        "df"
      ],
      "execution_count": 18,
      "outputs": [
        {
          "output_type": "stream",
          "text": [
            "1996\n",
            "1998\n",
            "1999\n",
            "2001\n",
            "HAM2-011128.xml not well-formed (invalid token): line 4540, column 6\n",
            "1997\n",
            "2002\n",
            "HAM2-020609.xml not well-formed (invalid token): line 5933, column 23\n",
            "HAM2-021126.xml not well-formed (invalid token): line 849, column 40\n",
            "2000\n",
            "HAM2-000112.xml not well-formed (invalid token): line 1407, column 0\n",
            "2005\n",
            "HAM2-050430.xml not well-formed (invalid token): line 124, column 38\n",
            "HAM2-050403.xml not well-formed (invalid token): line 249, column 0\n",
            "HAM2-050414.xml not well-formed (invalid token): line 311, column 0\n",
            "HAM2-050406.xml not well-formed (invalid token): line 229, column 237\n",
            "HAM2-050421.xml not well-formed (invalid token): line 49, column 41\n",
            "HAM2-051022.xml not well-formed (invalid token): line 315, column 18\n",
            "HAM2-050413.xml not well-formed (invalid token): line 216, column 683\n",
            "HAM2-050407.xml not well-formed (invalid token): line 363, column 4\n",
            "HAM2-050425.xml not well-formed (invalid token): line 517, column 13\n",
            "HAM2-050419.xml not well-formed (invalid token): line 228, column 215\n",
            "HAM2-050417.xml not well-formed (invalid token): line 285, column 174\n",
            "HAM2-050424.xml not well-formed (invalid token): line 122, column 34\n",
            "HAM2-050101.xml not well-formed (invalid token): line 3376, column 17\n",
            "HAM2-050405.xml not well-formed (invalid token): line 236, column 123\n",
            "HAM2-050418.xml not well-formed (invalid token): line 455, column 4\n",
            "HAM2-050404.xml not well-formed (invalid token): line 75, column 587\n",
            "HAM2-050420.xml not well-formed (invalid token): line 520, column 0\n",
            "HAM2-051004.xml not well-formed (invalid token): line 3146, column 32\n",
            "HAM2-050412.xml not well-formed (invalid token): line 337, column 69\n",
            "HAM2-050427.xml not well-formed (invalid token): line 295, column 4\n",
            "2003\n",
            "HAM2-030228.xml not well-formed (invalid token): line 1137, column 68\n",
            "HAM2-031119.xml not well-formed (invalid token): line 692, column 0\n",
            "HAM2-031202.xml not well-formed (invalid token): line 1002, column 0\n",
            "HAM2-030918.xml not well-formed (invalid token): line 3423, column 99\n",
            "2004\n",
            "HAM2-041026.xml not well-formed (invalid token): line 454, column 0\n",
            "HAM2-040122.xml not well-formed (invalid token): line 3581, column 390\n",
            "HAM2-040111.xml not well-formed (invalid token): line 1279, column 189\n",
            "HAM2-040114.xml not well-formed (invalid token): line 1767, column 186\n",
            "HAM2-040829.xml not well-formed (invalid token): line 2813, column 502\n",
            "HAM2-040915.xml not well-formed (invalid token): line 1572, column 517\n",
            "HAM2-040428.xml not well-formed (invalid token): line 176, column 69\n",
            "2006\n",
            "HAM2-060504.xml not well-formed (invalid token): line 2218, column 0\n",
            "HAM2-061227.xml not well-formed (invalid token): line 2096, column 0\n",
            "HAM2-061230.xml not well-formed (invalid token): line 1109, column 9\n",
            "HAM2-060925.xml not well-formed (invalid token): line 2409, column 17\n",
            "2007\n",
            "HAM2-070415.xml not well-formed (invalid token): line 1736, column 9\n",
            "HAM2-070204.xml not well-formed (invalid token): line 1124, column 9\n"
          ],
          "name": "stdout"
        },
        {
          "output_type": "execute_result",
          "data": {
            "text/html": [
              "<div>\n",
              "<style scoped>\n",
              "    .dataframe tbody tr th:only-of-type {\n",
              "        vertical-align: middle;\n",
              "    }\n",
              "\n",
              "    .dataframe tbody tr th {\n",
              "        vertical-align: top;\n",
              "    }\n",
              "\n",
              "    .dataframe thead th {\n",
              "        text-align: right;\n",
              "    }\n",
              "</style>\n",
              "<table border=\"1\" class=\"dataframe\">\n",
              "  <thead>\n",
              "    <tr style=\"text-align: right;\">\n",
              "      <th></th>\n",
              "      <th>category</th>\n",
              "      <th>content</th>\n",
              "      <th>title</th>\n",
              "      <th>year</th>\n",
              "    </tr>\n",
              "  </thead>\n",
              "  <tbody>\n",
              "    <tr>\n",
              "      <th>0</th>\n",
              "      <td>ورزش</td>\n",
              "      <td></td>\n",
              "      <td>آتلانتا- المپيك 26- خبرنگار اعزامي همشهري محمد...</td>\n",
              "      <td>1996</td>\n",
              "    </tr>\n",
              "    <tr>\n",
              "      <th>1</th>\n",
              "      <td>ورزش</td>\n",
              "      <td>جمعه اين هفته: آغاز مسابقات آمادگي جسماني با ب...</td>\n",
              "      <td>خبرها و رويدادهاي ورزشي در شهرداري خبرهاي ويژه...</td>\n",
              "      <td>1996</td>\n",
              "    </tr>\n",
              "    <tr>\n",
              "      <th>2</th>\n",
              "      <td>ورزش</td>\n",
              "      <td>سرويس ورزشي: جام آزادگان به هفته پنجم رسيد و ب...</td>\n",
              "      <td>فوتبال جام آزادگان زيربناي فوتبال وآمادگي جسما...</td>\n",
              "      <td>1996</td>\n",
              "    </tr>\n",
              "    <tr>\n",
              "      <th>3</th>\n",
              "      <td>ورزش</td>\n",
              "      <td>. واحد رسانه هاي خارجي: در ادامه رقابتهاي فوتب...</td>\n",
              "      <td>فوتبال باشگاههاي آلمان بايرن مونيخ ازسد هامبور...</td>\n",
              "      <td>1996</td>\n",
              "    </tr>\n",
              "    <tr>\n",
              "      <th>4</th>\n",
              "      <td>ورزش</td>\n",
              "      <td>. سرويس ورزشي: با وجود كنار كشيدن تعدادي از اع...</td>\n",
              "      <td>تاكيد مجدد فدراسيون كشتي بر انجام مسابقه هاي ا...</td>\n",
              "      <td>1996</td>\n",
              "    </tr>\n",
              "    <tr>\n",
              "      <th>...</th>\n",
              "      <td>...</td>\n",
              "      <td>...</td>\n",
              "      <td>...</td>\n",
              "      <td>...</td>\n",
              "    </tr>\n",
              "    <tr>\n",
              "      <th>3160</th>\n",
              "      <td>علمی فرهنگی.علمی</td>\n",
              "      <td></td>\n",
              "      <td>هورمون درماني چه جايگاهي در درمان بيماران دارد؟</td>\n",
              "      <td>2007</td>\n",
              "    </tr>\n",
              "    <tr>\n",
              "      <th>3161</th>\n",
              "      <td>سیاسی</td>\n",
              "      <td>گروه بين الملل- ساعاتي قبل از انفجار مهيب دانش...</td>\n",
              "      <td>نگاهگزارش سازمان ملل درباره عراق در سال 2006</td>\n",
              "      <td>2007</td>\n",
              "    </tr>\n",
              "    <tr>\n",
              "      <th>3162</th>\n",
              "      <td>سیاسی</td>\n",
              "      <td>گروه سياسي - نمايندگان مجلس شوراي اسلامي در آذ...</td>\n",
              "      <td>نگاهتحقيق و تفحص</td>\n",
              "      <td>2007</td>\n",
              "    </tr>\n",
              "    <tr>\n",
              "      <th>3163</th>\n",
              "      <td>گوناگون.شهری</td>\n",
              "      <td></td>\n",
              "      <td>زاويه ديدجشن فانوس در ليونسمانه اسفنجي</td>\n",
              "      <td>2007</td>\n",
              "    </tr>\n",
              "    <tr>\n",
              "      <th>3164</th>\n",
              "      <td>علمی فرهنگی.علمی</td>\n",
              "      <td></td>\n",
              "      <td>جدول اعداد323</td>\n",
              "      <td>2007</td>\n",
              "    </tr>\n",
              "  </tbody>\n",
              "</table>\n",
              "<p>3165 rows × 4 columns</p>\n",
              "</div>"
            ],
            "text/plain": [
              "              category  ...  year\n",
              "0                 ورزش  ...  1996\n",
              "1                 ورزش  ...  1996\n",
              "2                 ورزش  ...  1996\n",
              "3                 ورزش  ...  1996\n",
              "4                 ورزش  ...  1996\n",
              "...                ...  ...   ...\n",
              "3160  علمی فرهنگی.علمی  ...  2007\n",
              "3161             سیاسی  ...  2007\n",
              "3162             سیاسی  ...  2007\n",
              "3163      گوناگون.شهری  ...  2007\n",
              "3164  علمی فرهنگی.علمی  ...  2007\n",
              "\n",
              "[3165 rows x 4 columns]"
            ]
          },
          "metadata": {},
          "execution_count": 18
        }
      ]
    },
    {
      "cell_type": "code",
      "metadata": {
        "id": "ugXOO5BCiNZC",
        "outputId": "94f3362f-8e7d-4802-e082-83c81917e435",
        "colab": {
          "base_uri": "https://localhost:8080/",
          "height": 35
        }
      },
      "source": [
        "df.loc[3160, \"content\"]"
      ],
      "execution_count": 19,
      "outputs": [
        {
          "output_type": "execute_result",
          "data": {
            "application/vnd.google.colaboratory.intrinsic+json": {
              "type": "string"
            },
            "text/plain": [
              "''"
            ]
          },
          "metadata": {},
          "execution_count": 19
        }
      ]
    }
  ]
}