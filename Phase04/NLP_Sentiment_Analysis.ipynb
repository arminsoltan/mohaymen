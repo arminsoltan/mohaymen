{
  "nbformat": 4,
  "nbformat_minor": 0,
  "metadata": {
    "colab": {
      "name": "NLP_Sentiment_Analysis.ipynb",
      "provenance": [],
      "collapsed_sections": [],
      "mount_file_id": "17AtM7tNCuGFT805S5tgLnTC6G5Fbu1me",
      "authorship_tag": "ABX9TyNIBCZ1e8v1BXtxzUWOPM0C",
      "include_colab_link": true
    },
    "kernelspec": {
      "name": "python3",
      "display_name": "Python 3"
    },
    "language_info": {
      "name": "python"
    }
  },
  "cells": [
    {
      "cell_type": "markdown",
      "metadata": {
        "id": "view-in-github",
        "colab_type": "text"
      },
      "source": [
        "<a href=\"https://colab.research.google.com/github/arminsoltan/mohaymen/blob/main/Phase04/NLP_Sentiment_Analysis.ipynb\" target=\"_parent\"><img src=\"https://colab.research.google.com/assets/colab-badge.svg\" alt=\"Open In Colab\"/></a>"
      ]
    },
    {
      "cell_type": "markdown",
      "metadata": {
        "id": "YjLSbnH_2TTI"
      },
      "source": [
        "# Read Data"
      ]
    },
    {
      "cell_type": "code",
      "metadata": {
        "colab": {
          "base_uri": "https://localhost:8080/"
        },
        "id": "IbMTsepW1lqy",
        "outputId": "ad5e111a-c509-4df8-8887-59cac223f4c7"
      },
      "source": [
        "!pip install parsivar"
      ],
      "execution_count": 1,
      "outputs": [
        {
          "output_type": "stream",
          "text": [
            "Collecting parsivar\n",
            "  Downloading parsivar-0.2.3.tar.gz (36.2 MB)\n",
            "\u001b[K     |████████████████████████████████| 36.2 MB 63 kB/s \n",
            "\u001b[?25hCollecting nltk==3.4.5\n",
            "  Downloading nltk-3.4.5.zip (1.5 MB)\n",
            "\u001b[K     |████████████████████████████████| 1.5 MB 54.0 MB/s \n",
            "\u001b[?25hRequirement already satisfied: six in /usr/local/lib/python3.7/dist-packages (from nltk==3.4.5->parsivar) (1.15.0)\n",
            "Building wheels for collected packages: parsivar, nltk\n",
            "  Building wheel for parsivar (setup.py) ... \u001b[?25l\u001b[?25hdone\n",
            "  Created wheel for parsivar: filename=parsivar-0.2.3-py3-none-any.whl size=36492971 sha256=fb4ec39d6b37c3a04b823f86c8e68e4180addd63c9aa6dc9606286466db6db87\n",
            "  Stored in directory: /root/.cache/pip/wheels/ae/67/7a/49cbf08f64d3f76a26eceaf0e481a40e233f05d4356875cbed\n",
            "  Building wheel for nltk (setup.py) ... \u001b[?25l\u001b[?25hdone\n",
            "  Created wheel for nltk: filename=nltk-3.4.5-py3-none-any.whl size=1449920 sha256=12a364a2a5be3eda17d5fd048e8f10521f331046bff9fb1d54f8043567054e6d\n",
            "  Stored in directory: /root/.cache/pip/wheels/48/8b/7f/473521e0c731c6566d631b281f323842bbda9bd819eb9a3ead\n",
            "Successfully built parsivar nltk\n",
            "Installing collected packages: nltk, parsivar\n",
            "  Attempting uninstall: nltk\n",
            "    Found existing installation: nltk 3.2.5\n",
            "    Uninstalling nltk-3.2.5:\n",
            "      Successfully uninstalled nltk-3.2.5\n",
            "Successfully installed nltk-3.4.5 parsivar-0.2.3\n"
          ],
          "name": "stdout"
        }
      ]
    },
    {
      "cell_type": "code",
      "metadata": {
        "colab": {
          "base_uri": "https://localhost:8080/"
        },
        "id": "KU9ptpk-4AFl",
        "outputId": "2f47bc83-58dd-49a4-d505-61c8f73d6d05"
      },
      "source": [
        "!pip install hazm"
      ],
      "execution_count": 2,
      "outputs": [
        {
          "output_type": "stream",
          "text": [
            "Collecting hazm\n",
            "  Downloading hazm-0.7.0-py3-none-any.whl (316 kB)\n",
            "\u001b[?25l\r\u001b[K     |█                               | 10 kB 36.7 MB/s eta 0:00:01\r\u001b[K     |██                              | 20 kB 38.1 MB/s eta 0:00:01\r\u001b[K     |███                             | 30 kB 44.6 MB/s eta 0:00:01\r\u001b[K     |████▏                           | 40 kB 28.2 MB/s eta 0:00:01\r\u001b[K     |█████▏                          | 51 kB 16.8 MB/s eta 0:00:01\r\u001b[K     |██████▏                         | 61 kB 14.4 MB/s eta 0:00:01\r\u001b[K     |███████▎                        | 71 kB 13.7 MB/s eta 0:00:01\r\u001b[K     |████████▎                       | 81 kB 15.2 MB/s eta 0:00:01\r\u001b[K     |█████████▎                      | 92 kB 14.0 MB/s eta 0:00:01\r\u001b[K     |██████████▍                     | 102 kB 14.7 MB/s eta 0:00:01\r\u001b[K     |███████████▍                    | 112 kB 14.7 MB/s eta 0:00:01\r\u001b[K     |████████████▍                   | 122 kB 14.7 MB/s eta 0:00:01\r\u001b[K     |█████████████▌                  | 133 kB 14.7 MB/s eta 0:00:01\r\u001b[K     |██████████████▌                 | 143 kB 14.7 MB/s eta 0:00:01\r\u001b[K     |███████████████▌                | 153 kB 14.7 MB/s eta 0:00:01\r\u001b[K     |████████████████▋               | 163 kB 14.7 MB/s eta 0:00:01\r\u001b[K     |█████████████████▋              | 174 kB 14.7 MB/s eta 0:00:01\r\u001b[K     |██████████████████▋             | 184 kB 14.7 MB/s eta 0:00:01\r\u001b[K     |███████████████████▋            | 194 kB 14.7 MB/s eta 0:00:01\r\u001b[K     |████████████████████▊           | 204 kB 14.7 MB/s eta 0:00:01\r\u001b[K     |█████████████████████▊          | 215 kB 14.7 MB/s eta 0:00:01\r\u001b[K     |██████████████████████▊         | 225 kB 14.7 MB/s eta 0:00:01\r\u001b[K     |███████████████████████▉        | 235 kB 14.7 MB/s eta 0:00:01\r\u001b[K     |████████████████████████▉       | 245 kB 14.7 MB/s eta 0:00:01\r\u001b[K     |█████████████████████████▉      | 256 kB 14.7 MB/s eta 0:00:01\r\u001b[K     |███████████████████████████     | 266 kB 14.7 MB/s eta 0:00:01\r\u001b[K     |████████████████████████████    | 276 kB 14.7 MB/s eta 0:00:01\r\u001b[K     |█████████████████████████████   | 286 kB 14.7 MB/s eta 0:00:01\r\u001b[K     |██████████████████████████████  | 296 kB 14.7 MB/s eta 0:00:01\r\u001b[K     |███████████████████████████████ | 307 kB 14.7 MB/s eta 0:00:01\r\u001b[K     |████████████████████████████████| 316 kB 14.7 MB/s \n",
            "\u001b[?25hCollecting libwapiti>=0.2.1\n",
            "  Downloading libwapiti-0.2.1.tar.gz (233 kB)\n",
            "\u001b[K     |████████████████████████████████| 233 kB 23.1 MB/s \n",
            "\u001b[?25hCollecting nltk==3.3\n",
            "  Downloading nltk-3.3.0.zip (1.4 MB)\n",
            "\u001b[K     |████████████████████████████████| 1.4 MB 25.1 MB/s \n",
            "\u001b[?25hRequirement already satisfied: six in /usr/local/lib/python3.7/dist-packages (from nltk==3.3->hazm) (1.15.0)\n",
            "Building wheels for collected packages: nltk, libwapiti\n",
            "  Building wheel for nltk (setup.py) ... \u001b[?25l\u001b[?25hdone\n",
            "  Created wheel for nltk: filename=nltk-3.3-py3-none-any.whl size=1394486 sha256=5c83421c8b75e68828b05bec0c3329dafd75e3231dc849cdfc48be87dfed9ee1\n",
            "  Stored in directory: /root/.cache/pip/wheels/9b/fd/0c/d92302c876e5de87ebd7fc0979d82edb93e2d8d768bf71fac4\n",
            "  Building wheel for libwapiti (setup.py) ... \u001b[?25l\u001b[?25hdone\n",
            "  Created wheel for libwapiti: filename=libwapiti-0.2.1-cp37-cp37m-linux_x86_64.whl size=154850 sha256=977253ff031c4bc6fc1d37c5218c3b2cf74acab16f2b3b54ad1d12cbdedbdc4e\n",
            "  Stored in directory: /root/.cache/pip/wheels/ab/b2/5b/0fe4b8f5c0e65341e8ea7bb3f4a6ebabfe8b1ac31322392dbf\n",
            "Successfully built nltk libwapiti\n",
            "Installing collected packages: nltk, libwapiti, hazm\n",
            "  Attempting uninstall: nltk\n",
            "    Found existing installation: nltk 3.4.5\n",
            "    Uninstalling nltk-3.4.5:\n",
            "      Successfully uninstalled nltk-3.4.5\n",
            "\u001b[31mERROR: pip's dependency resolver does not currently take into account all the packages that are installed. This behaviour is the source of the following dependency conflicts.\n",
            "parsivar 0.2.3 requires nltk==3.4.5, but you have nltk 3.3 which is incompatible.\u001b[0m\n",
            "Successfully installed hazm-0.7.0 libwapiti-0.2.1 nltk-3.3\n"
          ],
          "name": "stdout"
        }
      ]
    },
    {
      "cell_type": "code",
      "metadata": {
        "id": "3-nc1fD6ygHO"
      },
      "source": [
        "!mkdir /usr/local/lib/python3.7/dist-packages/parsivar/resource/spell/\n",
        "!cp -i /content/drive/MyDrive/Mohaymen/spell/mybigram_lm.pckl /usr/local/lib/python3.7/dist-packages/parsivar/resource/spell/\n",
        "!cp -i /content/drive/MyDrive/Mohaymen/spell/onegram.pckl /usr/local/lib/python3.7/dist-packages/parsivar/resource/spell/"
      ],
      "execution_count": 3,
      "outputs": []
    },
    {
      "cell_type": "code",
      "metadata": {
        "id": "VG7g0Fzu4ZT4"
      },
      "source": [
        "import parsivar\n",
        "import warnings"
      ],
      "execution_count": 4,
      "outputs": []
    },
    {
      "cell_type": "code",
      "metadata": {
        "id": "uFQjKKdQ60z-"
      },
      "source": [
        "warnings.filterwarnings(\"ignore\")"
      ],
      "execution_count": 5,
      "outputs": []
    },
    {
      "cell_type": "code",
      "metadata": {
        "id": "qBQy7WNMQPtg"
      },
      "source": [
        "import pandas as pd\n",
        "df = pd.read_excel(\"/content/drive/MyDrive/Mohaymen/Phase03/Labeled-Sentences.xlsx\", sheet_name=\"Sheet2\")\n",
        "df = df.drop([\"good=1\", \"fair=0\", \"excellent=2\"], axis=1)\n",
        "df.columns = [\"review\", \"star\", \"label\"]"
      ],
      "execution_count": 6,
      "outputs": []
    },
    {
      "cell_type": "code",
      "metadata": {
        "colab": {
          "base_uri": "https://localhost:8080/",
          "height": 206
        },
        "id": "uKT7p4t4Rpoq",
        "outputId": "8620f7d7-853a-46ba-af1f-fce0bc0024c2"
      },
      "source": [
        "df.head()"
      ],
      "execution_count": 7,
      "outputs": [
        {
          "output_type": "execute_result",
          "data": {
            "text/html": [
              "<div>\n",
              "<style scoped>\n",
              "    .dataframe tbody tr th:only-of-type {\n",
              "        vertical-align: middle;\n",
              "    }\n",
              "\n",
              "    .dataframe tbody tr th {\n",
              "        vertical-align: top;\n",
              "    }\n",
              "\n",
              "    .dataframe thead th {\n",
              "        text-align: right;\n",
              "    }\n",
              "</style>\n",
              "<table border=\"1\" class=\"dataframe\">\n",
              "  <thead>\n",
              "    <tr style=\"text-align: right;\">\n",
              "      <th></th>\n",
              "      <th>review</th>\n",
              "      <th>star</th>\n",
              "      <th>label</th>\n",
              "    </tr>\n",
              "  </thead>\n",
              "  <tbody>\n",
              "    <tr>\n",
              "      <th>0</th>\n",
              "      <td>واقعا هتل خوبی بود...از لحاظ نزدیکی به دریا وم...</td>\n",
              "      <td>5</td>\n",
              "      <td>2</td>\n",
              "    </tr>\n",
              "    <tr>\n",
              "      <th>1</th>\n",
              "      <td>از همه مهمتر پرسنل های خیلی خوبی داشت</td>\n",
              "      <td>5</td>\n",
              "      <td>2</td>\n",
              "    </tr>\n",
              "    <tr>\n",
              "      <th>2</th>\n",
              "      <td>من ب این هتل امتیاز کامل میدم</td>\n",
              "      <td>5</td>\n",
              "      <td>2</td>\n",
              "    </tr>\n",
              "    <tr>\n",
              "      <th>3</th>\n",
              "      <td>از نظر ترانسفر فرودگاهی بسیار عالی برخورد</td>\n",
              "      <td>4</td>\n",
              "      <td>2</td>\n",
              "    </tr>\n",
              "    <tr>\n",
              "      <th>4</th>\n",
              "      <td>پرسنل عالی برخورد رستوران حرف نداشت</td>\n",
              "      <td>4</td>\n",
              "      <td>2</td>\n",
              "    </tr>\n",
              "  </tbody>\n",
              "</table>\n",
              "</div>"
            ],
            "text/plain": [
              "                                              review  star  label\n",
              "0  واقعا هتل خوبی بود...از لحاظ نزدیکی به دریا وم...     5      2\n",
              "1              از همه مهمتر پرسنل های خیلی خوبی داشت     5      2\n",
              "2                     من ب این هتل امتیاز کامل میدم      5      2\n",
              "3          از نظر ترانسفر فرودگاهی بسیار عالی برخورد     4      2\n",
              "4                پرسنل عالی برخورد رستوران حرف نداشت     4      2"
            ]
          },
          "metadata": {
            "tags": []
          },
          "execution_count": 7
        }
      ]
    },
    {
      "cell_type": "code",
      "metadata": {
        "colab": {
          "base_uri": "https://localhost:8080/",
          "height": 300
        },
        "id": "13lUdat6RwDN",
        "outputId": "dfcbe572-349e-4e6c-e2d6-e4853e2bcc1d"
      },
      "source": [
        "df.describe()"
      ],
      "execution_count": 8,
      "outputs": [
        {
          "output_type": "execute_result",
          "data": {
            "text/html": [
              "<div>\n",
              "<style scoped>\n",
              "    .dataframe tbody tr th:only-of-type {\n",
              "        vertical-align: middle;\n",
              "    }\n",
              "\n",
              "    .dataframe tbody tr th {\n",
              "        vertical-align: top;\n",
              "    }\n",
              "\n",
              "    .dataframe thead th {\n",
              "        text-align: right;\n",
              "    }\n",
              "</style>\n",
              "<table border=\"1\" class=\"dataframe\">\n",
              "  <thead>\n",
              "    <tr style=\"text-align: right;\">\n",
              "      <th></th>\n",
              "      <th>star</th>\n",
              "      <th>label</th>\n",
              "    </tr>\n",
              "  </thead>\n",
              "  <tbody>\n",
              "    <tr>\n",
              "      <th>count</th>\n",
              "      <td>703.000000</td>\n",
              "      <td>703.000000</td>\n",
              "    </tr>\n",
              "    <tr>\n",
              "      <th>mean</th>\n",
              "      <td>4.278805</td>\n",
              "      <td>1.645804</td>\n",
              "    </tr>\n",
              "    <tr>\n",
              "      <th>std</th>\n",
              "      <td>0.783878</td>\n",
              "      <td>0.738449</td>\n",
              "    </tr>\n",
              "    <tr>\n",
              "      <th>min</th>\n",
              "      <td>1.000000</td>\n",
              "      <td>0.000000</td>\n",
              "    </tr>\n",
              "    <tr>\n",
              "      <th>25%</th>\n",
              "      <td>4.000000</td>\n",
              "      <td>2.000000</td>\n",
              "    </tr>\n",
              "    <tr>\n",
              "      <th>50%</th>\n",
              "      <td>4.000000</td>\n",
              "      <td>2.000000</td>\n",
              "    </tr>\n",
              "    <tr>\n",
              "      <th>75%</th>\n",
              "      <td>5.000000</td>\n",
              "      <td>2.000000</td>\n",
              "    </tr>\n",
              "    <tr>\n",
              "      <th>max</th>\n",
              "      <td>5.000000</td>\n",
              "      <td>2.000000</td>\n",
              "    </tr>\n",
              "  </tbody>\n",
              "</table>\n",
              "</div>"
            ],
            "text/plain": [
              "             star       label\n",
              "count  703.000000  703.000000\n",
              "mean     4.278805    1.645804\n",
              "std      0.783878    0.738449\n",
              "min      1.000000    0.000000\n",
              "25%      4.000000    2.000000\n",
              "50%      4.000000    2.000000\n",
              "75%      5.000000    2.000000\n",
              "max      5.000000    2.000000"
            ]
          },
          "metadata": {
            "tags": []
          },
          "execution_count": 8
        }
      ]
    },
    {
      "cell_type": "code",
      "metadata": {
        "colab": {
          "base_uri": "https://localhost:8080/",
          "height": 316
        },
        "id": "_g-W9CcMSgnX",
        "outputId": "6809ad29-d534-4128-d43b-eb840ae7d8fc"
      },
      "source": [
        "df.hist(column=\"label\")"
      ],
      "execution_count": 9,
      "outputs": [
        {
          "output_type": "execute_result",
          "data": {
            "text/plain": [
              "array([[<matplotlib.axes._subplots.AxesSubplot object at 0x7f0d1abf57d0>]],\n",
              "      dtype=object)"
            ]
          },
          "metadata": {
            "tags": []
          },
          "execution_count": 9
        },
        {
          "output_type": "display_data",
          "data": {
            "image/png": "[encoded data removed]",
            "text/plain": [
              "<Figure size 432x288 with 1 Axes>"
            ]
          },
          "metadata": {
            "tags": [],
            "needs_background": "light"
          }
        }
      ]
    },
    {
      "cell_type": "code",
      "metadata": {
        "id": "NbtOAXZSLfuK"
      },
      "source": [
        "from parsivar import Normalizer, SpellCheck, Tokenizer, FindStems\n",
        "\n",
        "def data_processing(review):\n",
        "  normalizer = Normalizer()\n",
        "  review = normalizer.normalize(review)\n",
        "\n",
        "  checker = SpellCheck()\n",
        "  review = checker.spell_corrector(review)\n",
        "\n",
        "  tokenizer = Tokenizer()\n",
        "  words = tokenizer.tokenize_words(review)\n",
        "\n",
        "  stemmer = FindStems()\n",
        "  review = [stemmer.convert_to_stem(word) for word in words]\n",
        "\n",
        "  review = ' '.join(review)\n",
        "\n",
        "  return review"
      ],
      "execution_count": 10,
      "outputs": []
    },
    {
      "cell_type": "code",
      "metadata": {
        "id": "TJeufZNQzlAG"
      },
      "source": [
        "# df[\"normalized_review\"] = df[\"review\"].apply(lambda review: data_processing(review))"
      ],
      "execution_count": 11,
      "outputs": []
    },
    {
      "cell_type": "code",
      "metadata": {
        "id": "LXGrN7_ACw2q"
      },
      "source": [
        "# df.to_pickle(\"/content/drive/MyDrive/Mohaymen/Phase04/df.pkl\")"
      ],
      "execution_count": 12,
      "outputs": []
    },
    {
      "cell_type": "code",
      "metadata": {
        "id": "eeu9A8MEanGX"
      },
      "source": [
        "import pandas as pd\n",
        "\n",
        "df = pd.read_pickle(\"/content/drive/MyDrive/Mohaymen/Phase04/df.pkl\")"
      ],
      "execution_count": 14,
      "outputs": []
    },
    {
      "cell_type": "code",
      "metadata": {
        "colab": {
          "base_uri": "https://localhost:8080/",
          "height": 206
        },
        "id": "ShUSGYYh49SH",
        "outputId": "337b42af-3a25-48b9-e51b-d67f5dcd4ec9"
      },
      "source": [
        "df.head()"
      ],
      "execution_count": 15,
      "outputs": [
        {
          "output_type": "execute_result",
          "data": {
            "text/html": [
              "<div>\n",
              "<style scoped>\n",
              "    .dataframe tbody tr th:only-of-type {\n",
              "        vertical-align: middle;\n",
              "    }\n",
              "\n",
              "    .dataframe tbody tr th {\n",
              "        vertical-align: top;\n",
              "    }\n",
              "\n",
              "    .dataframe thead th {\n",
              "        text-align: right;\n",
              "    }\n",
              "</style>\n",
              "<table border=\"1\" class=\"dataframe\">\n",
              "  <thead>\n",
              "    <tr style=\"text-align: right;\">\n",
              "      <th></th>\n",
              "      <th>review</th>\n",
              "      <th>star</th>\n",
              "      <th>label</th>\n",
              "      <th>normalized_review</th>\n",
              "    </tr>\n",
              "  </thead>\n",
              "  <tbody>\n",
              "    <tr>\n",
              "      <th>0</th>\n",
              "      <td>واقعا هتل خوبی بود...از لحاظ نزدیکی به دریا وم...</td>\n",
              "      <td>5</td>\n",
              "      <td>2</td>\n",
              "      <td>واقعا هتل خوبی‌بود ... از لحاظ نزدیکی به دریا ...</td>\n",
              "    </tr>\n",
              "    <tr>\n",
              "      <th>1</th>\n",
              "      <td>از همه مهمتر پرسنل های خیلی خوبی داشت</td>\n",
              "      <td>5</td>\n",
              "      <td>2</td>\n",
              "      <td>از همه مهم پرسنل خیلی خوبی داشت&amp;دار</td>\n",
              "    </tr>\n",
              "    <tr>\n",
              "      <th>2</th>\n",
              "      <td>من ب این هتل امتیاز کامل میدم</td>\n",
              "      <td>5</td>\n",
              "      <td>2</td>\n",
              "      <td>من ب این هتل امتیاز کامل مردم</td>\n",
              "    </tr>\n",
              "    <tr>\n",
              "      <th>3</th>\n",
              "      <td>از نظر ترانسفر فرودگاهی بسیار عالی برخورد</td>\n",
              "      <td>4</td>\n",
              "      <td>2</td>\n",
              "      <td>از نظر ترانسفر فرودگاه بسیار عالی برخورد</td>\n",
              "    </tr>\n",
              "    <tr>\n",
              "      <th>4</th>\n",
              "      <td>پرسنل عالی برخورد رستوران حرف نداشت</td>\n",
              "      <td>4</td>\n",
              "      <td>2</td>\n",
              "      <td>پرسنل عالی برخورد رستوران حرف داشت&amp;دار</td>\n",
              "    </tr>\n",
              "  </tbody>\n",
              "</table>\n",
              "</div>"
            ],
            "text/plain": [
              "                                              review  ...                                  normalized_review\n",
              "0  واقعا هتل خوبی بود...از لحاظ نزدیکی به دریا وم...  ...  واقعا هتل خوبی‌بود ... از لحاظ نزدیکی به دریا ...\n",
              "1              از همه مهمتر پرسنل های خیلی خوبی داشت  ...                از همه مهم پرسنل خیلی خوبی داشت&دار\n",
              "2                     من ب این هتل امتیاز کامل میدم   ...                      من ب این هتل امتیاز کامل مردم\n",
              "3          از نظر ترانسفر فرودگاهی بسیار عالی برخورد  ...           از نظر ترانسفر فرودگاه بسیار عالی برخورد\n",
              "4                پرسنل عالی برخورد رستوران حرف نداشت  ...             پرسنل عالی برخورد رستوران حرف داشت&دار\n",
              "\n",
              "[5 rows x 4 columns]"
            ]
          },
          "metadata": {
            "tags": []
          },
          "execution_count": 15
        }
      ]
    },
    {
      "cell_type": "code",
      "metadata": {
        "colab": {
          "base_uri": "https://localhost:8080/"
        },
        "id": "ou61a3AlULOm",
        "outputId": "fb1e0bab-8b86-4db0-fe09-3dd944a758a1"
      },
      "source": [
        "import nltk\n",
        "nltk.download(\"punkt\")"
      ],
      "execution_count": 16,
      "outputs": [
        {
          "output_type": "stream",
          "text": [
            "[nltk_data] Downloading package punkt to /root/nltk_data...\n",
            "[nltk_data]   Unzipping tokenizers/punkt.zip.\n"
          ],
          "name": "stdout"
        },
        {
          "output_type": "execute_result",
          "data": {
            "text/plain": [
              "True"
            ]
          },
          "metadata": {
            "tags": []
          },
          "execution_count": 16
        }
      ]
    },
    {
      "cell_type": "code",
      "metadata": {
        "id": "ROu4wSguQ03y"
      },
      "source": [
        "from sklearn.model_selection import train_test_split\n",
        "\n",
        "features = df.copy()\n",
        "y = features['label'].values\n",
        "features = features.drop([\"label\", \"review\"], axis=1)\n",
        "X_train, X_test, y_train, y_test = train_test_split(features, y, test_size=0.2, stratify=y)"
      ],
      "execution_count": 17,
      "outputs": []
    },
    {
      "cell_type": "code",
      "metadata": {
        "id": "u04HfoQ7Umy7"
      },
      "source": [
        "from sklearn.feature_extraction.text import CountVectorizer\n",
        "\n",
        "cv = CountVectorizer(min_df=5)\n",
        "X_train_cv = cv.fit_transform(X_train['normalized_review'])\n",
        "X_test_cv = cv.transform(X_test['normalized_review'])"
      ],
      "execution_count": 18,
      "outputs": []
    },
    {
      "cell_type": "code",
      "metadata": {
        "id": "6GzrO36ZWu9i"
      },
      "source": [
        "from sklearn.feature_extraction.text import TfidfVectorizer\n",
        "\n",
        "tf = TfidfVectorizer(min_df=5)\n",
        "X_train_tfid = tf.fit_transform(X_train['normalized_review'])\n",
        "X_test_tfid = tf.transform(X_test['normalized_review'])"
      ],
      "execution_count": 19,
      "outputs": []
    },
    {
      "cell_type": "markdown",
      "metadata": {
        "id": "ktFEzgEvrUQv"
      },
      "source": [
        "# Multi Nomial Naive Bayes Classifier"
      ]
    },
    {
      "cell_type": "markdown",
      "metadata": {
        "id": "8UPYBV67sCPY"
      },
      "source": [
        "Count Vectorizer"
      ]
    },
    {
      "cell_type": "code",
      "metadata": {
        "id": "oONHd3F0aBLd",
        "colab": {
          "base_uri": "https://localhost:8080/"
        },
        "outputId": "93de93b9-1f9a-4b64-fa7b-b2b7210ccb0c"
      },
      "source": [
        "from sklearn.naive_bayes import MultinomialNB\n",
        "from sklearn import metrics\n",
        "\n",
        "clf_NB = MultinomialNB().fit(X_train_cv, y_train)\n",
        "predicted = clf_NB.predict(X_test_cv)\n",
        "print('MultinomialNB Accuracy = {:.2f}'.format(metrics.accuracy_score(y_test, predicted)))\n",
        "print(metrics.classification_report(y_test, predicted))"
      ],
      "execution_count": 21,
      "outputs": [
        {
          "output_type": "stream",
          "text": [
            "MultinomialNB Accuracy = 0.87\n",
            "              precision    recall  f1-score   support\n",
            "\n",
            "           0       0.72      0.59      0.65        22\n",
            "           1       0.00      0.00      0.00         6\n",
            "           2       0.89      0.97      0.93       113\n",
            "\n",
            "    accuracy                           0.87       141\n",
            "   macro avg       0.54      0.52      0.53       141\n",
            "weighted avg       0.83      0.87      0.85       141\n",
            "\n"
          ],
          "name": "stdout"
        }
      ]
    },
    {
      "cell_type": "markdown",
      "metadata": {
        "id": "c2U-eWVhsMJW"
      },
      "source": [
        "TfidVectorizer"
      ]
    },
    {
      "cell_type": "code",
      "metadata": {
        "colab": {
          "base_uri": "https://localhost:8080/"
        },
        "id": "CXsLZDikr4aA",
        "outputId": "3ec48ac1-a43b-4874-9c42-4649b05a8623"
      },
      "source": [
        "clf_NB = MultinomialNB().fit(X_train_tfid, y_train)\n",
        "predicted = clf_NB.predict(X_test_tfid)\n",
        "print('MultinomialNB Accuracy = {:.2f}'.format(metrics.accuracy_score(y_test, predicted)))\n",
        "print(metrics.classification_report(y_test, predicted))"
      ],
      "execution_count": 31,
      "outputs": [
        {
          "output_type": "stream",
          "text": [
            "MultinomialNB Accuracy = 0.84\n",
            "              precision    recall  f1-score   support\n",
            "\n",
            "           0       1.00      0.27      0.43        22\n",
            "           1       0.00      0.00      0.00         6\n",
            "           2       0.84      1.00      0.91       113\n",
            "\n",
            "    accuracy                           0.84       141\n",
            "   macro avg       0.61      0.42      0.45       141\n",
            "weighted avg       0.83      0.84      0.80       141\n",
            "\n"
          ],
          "name": "stdout"
        }
      ]
    },
    {
      "cell_type": "markdown",
      "metadata": {
        "id": "GXDnxS4urYWY"
      },
      "source": [
        "# Random Forest Classifier"
      ]
    },
    {
      "cell_type": "markdown",
      "metadata": {
        "id": "K5rOvWL4sf6j"
      },
      "source": [
        "Countervectorizer"
      ]
    },
    {
      "cell_type": "code",
      "metadata": {
        "id": "A2phaZQhDfOs",
        "colab": {
          "base_uri": "https://localhost:8080/"
        },
        "outputId": "ada49672-1007-49d3-80e3-717e02d9dd23"
      },
      "source": [
        "from sklearn.model_selection import GridSearchCV\n",
        "from sklearn.ensemble import RandomForestClassifier\n",
        "from sklearn import metrics\n",
        "\n",
        "parameters = {\n",
        "    \"n_estimators\": [10, 100, 1000],\n",
        "    \"criterion\": [\"gini\", \"entropy\"],\n",
        "    \"max_features\": [\"log2\", \"sqrt\"]\n",
        "}\n",
        "\n",
        "clf = GridSearchCV(RandomForestClassifier(), parameters).fit(X_train_cv, y_train)\n",
        "predicted = clf.predict(X_test_cv)\n",
        "print(clf.best_score_)\n",
        "print(metrics.classification_report(y_test, predicted))"
      ],
      "execution_count": 29,
      "outputs": [
        {
          "output_type": "stream",
          "text": [
            "0.8558312262958282\n",
            "              precision    recall  f1-score   support\n",
            "\n",
            "           0       0.71      0.45      0.56        22\n",
            "           1       0.00      0.00      0.00         6\n",
            "           2       0.87      0.97      0.92       113\n",
            "\n",
            "    accuracy                           0.85       141\n",
            "   macro avg       0.53      0.48      0.49       141\n",
            "weighted avg       0.81      0.85      0.82       141\n",
            "\n"
          ],
          "name": "stdout"
        }
      ]
    },
    {
      "cell_type": "markdown",
      "metadata": {
        "id": "vpB5l7H4svL3"
      },
      "source": [
        "TfidVectorizer"
      ]
    },
    {
      "cell_type": "code",
      "metadata": {
        "colab": {
          "base_uri": "https://localhost:8080/"
        },
        "id": "yxtq2OZQsTEt",
        "outputId": "31b9595f-eec6-4f33-bb23-d72566d25d7a"
      },
      "source": [
        "from sklearn.model_selection import GridSearchCV\n",
        "from sklearn.ensemble import RandomForestClassifier\n",
        "from sklearn import metrics\n",
        "\n",
        "parameters = {\n",
        "    \"n_estimators\": [10, 100, 1000],\n",
        "    \"criterion\": [\"gini\", \"entropy\"],\n",
        "    \"max_features\": [\"log2\", \"sqrt\"]\n",
        "}\n",
        "\n",
        "clf = GridSearchCV(RandomForestClassifier(), parameters).fit(X_train_tfid, y_train)\n",
        "predicted = clf.predict(X_test_tfid)\n",
        "print(clf.best_score_)\n",
        "print(metrics.classification_report(y_test, predicted))"
      ],
      "execution_count": 32,
      "outputs": [
        {
          "output_type": "stream",
          "text": [
            "0.8505214917825537\n",
            "              precision    recall  f1-score   support\n",
            "\n",
            "           0       0.88      0.32      0.47        22\n",
            "           1       0.00      0.00      0.00         6\n",
            "           2       0.84      0.99      0.91       113\n",
            "\n",
            "    accuracy                           0.84       141\n",
            "   macro avg       0.57      0.44      0.46       141\n",
            "weighted avg       0.81      0.84      0.80       141\n",
            "\n"
          ],
          "name": "stdout"
        }
      ]
    },
    {
      "cell_type": "markdown",
      "metadata": {
        "id": "NpCuwd_Yrkpq"
      },
      "source": [
        "# XG Boosting"
      ]
    },
    {
      "cell_type": "markdown",
      "metadata": {
        "id": "hjeLkZ62s1DO"
      },
      "source": [
        "CountVectorizer"
      ]
    },
    {
      "cell_type": "code",
      "metadata": {
        "colab": {
          "base_uri": "https://localhost:8080/"
        },
        "id": "7sx2vA_Ehv0Y",
        "outputId": "b34069e4-732a-470f-fe75-12bf3007a687"
      },
      "source": [
        "from sklearn.model_selection import GridSearchCV\n",
        "from xgboost import XGBClassifier \n",
        "parameters = {\n",
        "  \"n_estimators\" : [10, 100, 1000],\n",
        "  \"max_depth\" : [2, 4, 8, 16],\n",
        "  \"learning_rate\" : [0.1, 0.01, 0.001]\n",
        "}\n",
        "clf = GridSearchCV(XGBClassifier(), parameters).fit(X_train_cv, y_train)\n",
        "predicted = clf.predict(X_test_cv)\n",
        "print(clf.best_score_)\n",
        "print(metrics.classification_report(y_test, predicted))\n"
      ],
      "execution_count": 30,
      "outputs": [
        {
          "output_type": "stream",
          "text": [
            "0.8451801517067004\n",
            "              precision    recall  f1-score   support\n",
            "\n",
            "           0       0.90      0.41      0.56        22\n",
            "           1       0.00      0.00      0.00         6\n",
            "           2       0.86      1.00      0.93       113\n",
            "\n",
            "    accuracy                           0.87       141\n",
            "   macro avg       0.59      0.47      0.50       141\n",
            "weighted avg       0.83      0.87      0.83       141\n",
            "\n"
          ],
          "name": "stdout"
        }
      ]
    },
    {
      "cell_type": "markdown",
      "metadata": {
        "id": "hGI4fG22s3fn"
      },
      "source": [
        "TFidVectorizer"
      ]
    },
    {
      "cell_type": "code",
      "metadata": {
        "colab": {
          "base_uri": "https://localhost:8080/"
        },
        "id": "mc2VFqTlsZc-",
        "outputId": "343ef689-93f1-47c5-c990-265d6a83a725"
      },
      "source": [
        "from sklearn.model_selection import GridSearchCV\n",
        "from xgboost import XGBClassifier \n",
        "parameters = {\n",
        "  \"n_estimators\" : [10, 100, 1000],\n",
        "  \"max_depth\" : [2, 4, 8, 16],\n",
        "  \"learning_rate\" : [0.1, 0.01, 0.001]\n",
        "}\n",
        "clf = GridSearchCV(XGBClassifier(), parameters).fit(X_train_tfid, y_train)\n",
        "predicted = clf.predict(X_test_tfid)\n",
        "print(clf.best_score_)\n",
        "print(metrics.classification_report(y_test, predicted))"
      ],
      "execution_count": 33,
      "outputs": [
        {
          "output_type": "stream",
          "text": [
            "0.8469974715549936\n",
            "              precision    recall  f1-score   support\n",
            "\n",
            "           0       0.56      0.41      0.47        22\n",
            "           1       0.20      0.17      0.18         6\n",
            "           2       0.90      0.96      0.93       113\n",
            "\n",
            "    accuracy                           0.84       141\n",
            "   macro avg       0.55      0.51      0.53       141\n",
            "weighted avg       0.82      0.84      0.82       141\n",
            "\n"
          ],
          "name": "stdout"
        }
      ]
    }
  ]
}