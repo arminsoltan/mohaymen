{
  "nbformat": 4,
  "nbformat_minor": 0,
  "metadata": {
    "colab": {
      "name": "NLP_NTLK.ipynb",
      "provenance": [],
      "authorship_tag": "ABX9TyOk91fWP1Hnh3lfhlKebtQj",
      "include_colab_link": true
    },
    "kernelspec": {
      "name": "python3",
      "display_name": "Python 3"
    },
    "language_info": {
      "name": "python"
    }
  },
  "cells": [
    {
      "cell_type": "markdown",
      "metadata": {
        "id": "view-in-github",
        "colab_type": "text"
      },
      "source": [
        "<a href=\"https://colab.research.google.com/github/arminsoltan/mohaymen/blob/main/Phase03/NLP_NTLK.ipynb\" target=\"_parent\"><img src=\"https://colab.research.google.com/assets/colab-badge.svg\" alt=\"Open In Colab\"/></a>"
      ]
    },
    {
      "cell_type": "code",
      "metadata": {
        "colab": {
          "base_uri": "https://localhost:8080/"
        },
        "id": "ACqcs7GWGCNc",
        "outputId": "eaaf8054-48a8-4919-9784-52fed41a1cdc"
      },
      "source": [
        "!pip install nltk"
      ],
      "execution_count": 24,
      "outputs": [
        {
          "output_type": "stream",
          "text": [
            "Requirement already satisfied: nltk in /usr/local/lib/python3.7/dist-packages (3.2.5)\n",
            "Requirement already satisfied: six in /usr/local/lib/python3.7/dist-packages (from nltk) (1.15.0)\n"
          ],
          "name": "stdout"
        }
      ]
    },
    {
      "cell_type": "code",
      "metadata": {
        "colab": {
          "base_uri": "https://localhost:8080/"
        },
        "id": "H9fhDk8ZGUjd",
        "outputId": "e02498dc-8bd1-4b41-aae1-2a4c6ceecab3"
      },
      "source": [
        "import nltk\n",
        "nltk.download('punkt')"
      ],
      "execution_count": 25,
      "outputs": [
        {
          "output_type": "stream",
          "text": [
            "[nltk_data] Downloading package punkt to /root/nltk_data...\n",
            "[nltk_data]   Package punkt is already up-to-date!\n"
          ],
          "name": "stdout"
        },
        {
          "output_type": "execute_result",
          "data": {
            "text/plain": [
              "True"
            ]
          },
          "metadata": {
            "tags": []
          },
          "execution_count": 25
        }
      ]
    },
    {
      "cell_type": "code",
      "metadata": {
        "colab": {
          "base_uri": "https://localhost:8080/"
        },
        "id": "A8dURojrGfmu",
        "outputId": "f68c9a75-9b31-44fb-8edb-8caf9fc56690"
      },
      "source": [
        "from nltk.tokenize import sent_tokenize\n",
        "text = \"\"\"Clarke shivered as a gust of wind blew through the clearing, rustling the red and gold leaves\n",
        "that still clung to the trees. \"clarke,\" someone called faintly. \"\"\"\n",
        "tokenized_text = sent_tokenize(text)\n",
        "print(tokenized_text)"
      ],
      "execution_count": 26,
      "outputs": [
        {
          "output_type": "stream",
          "text": [
            "['Clarke shivered as a gust of wind blew through the clearing, rustling the red and gold leaves\\nthat still clung to the trees.', '\"clarke,\" someone called faintly.']\n"
          ],
          "name": "stdout"
        }
      ]
    },
    {
      "cell_type": "code",
      "metadata": {
        "colab": {
          "base_uri": "https://localhost:8080/"
        },
        "id": "yd1Mpg0QH_VT",
        "outputId": "b610b3d6-ba23-456e-ef51-d7d93d66457a"
      },
      "source": [
        "from nltk.tokenize import word_tokenize\n",
        "tokenized_word = word_tokenize(text)\n",
        "print(tokenized_word)"
      ],
      "execution_count": 27,
      "outputs": [
        {
          "output_type": "stream",
          "text": [
            "['Clarke', 'shivered', 'as', 'a', 'gust', 'of', 'wind', 'blew', 'through', 'the', 'clearing', ',', 'rustling', 'the', 'red', 'and', 'gold', 'leaves', 'that', 'still', 'clung', 'to', 'the', 'trees', '.', '``', 'clarke', ',', \"''\", 'someone', 'called', 'faintly', '.']\n"
          ],
          "name": "stdout"
        }
      ]
    },
    {
      "cell_type": "code",
      "metadata": {
        "colab": {
          "base_uri": "https://localhost:8080/"
        },
        "id": "cWgA3-I-ILBd",
        "outputId": "ee1c88c1-f1eb-4903-8658-2de1b5282585"
      },
      "source": [
        "from nltk.probability import FreqDist\n",
        "fdist = FreqDist(tokenized_word)\n",
        "print(fdist)"
      ],
      "execution_count": 28,
      "outputs": [
        {
          "output_type": "stream",
          "text": [
            "<FreqDist with 29 samples and 33 outcomes>\n"
          ],
          "name": "stdout"
        }
      ]
    },
    {
      "cell_type": "code",
      "metadata": {
        "colab": {
          "base_uri": "https://localhost:8080/"
        },
        "id": "BCvLiOoaIX_H",
        "outputId": "53ffee64-661c-4c99-fc48-e6b9a5933b4e"
      },
      "source": [
        "fdist.most_common(4)"
      ],
      "execution_count": 29,
      "outputs": [
        {
          "output_type": "execute_result",
          "data": {
            "text/plain": [
              "[('the', 3), (',', 2), ('.', 2), ('Clarke', 1)]"
            ]
          },
          "metadata": {
            "tags": []
          },
          "execution_count": 29
        }
      ]
    },
    {
      "cell_type": "code",
      "metadata": {
        "colab": {
          "base_uri": "https://localhost:8080/",
          "height": 315
        },
        "id": "p15qPZfDIbEn",
        "outputId": "411bba33-214e-4b78-83f4-a06d212fae23"
      },
      "source": [
        "import matplotlib.pyplot as plt\n",
        "fdist.plot(30, cumulative=False)\n",
        "plt.show()"
      ],
      "execution_count": 30,
      "outputs": [
        {
          "output_type": "display_data",
          "data": {
            "image/png": "[encoded data removed]",
            "text/plain": [
              "<Figure size 432x288 with 1 Axes>"
            ]
          },
          "metadata": {
            "tags": [],
            "needs_background": "light"
          }
        }
      ]
    },
    {
      "cell_type": "code",
      "metadata": {
        "colab": {
          "base_uri": "https://localhost:8080/"
        },
        "id": "dMzW4AJnJWE9",
        "outputId": "c72bf91e-efe1-4565-9794-9f8f802d643d"
      },
      "source": [
        "nltk.download('stopwords')"
      ],
      "execution_count": 31,
      "outputs": [
        {
          "output_type": "stream",
          "text": [
            "[nltk_data] Downloading package stopwords to /root/nltk_data...\n",
            "[nltk_data]   Package stopwords is already up-to-date!\n"
          ],
          "name": "stdout"
        },
        {
          "output_type": "execute_result",
          "data": {
            "text/plain": [
              "True"
            ]
          },
          "metadata": {
            "tags": []
          },
          "execution_count": 31
        }
      ]
    },
    {
      "cell_type": "code",
      "metadata": {
        "colab": {
          "base_uri": "https://localhost:8080/"
        },
        "id": "UFTuE8EwJETg",
        "outputId": "ed352156-a73a-47c0-d0b1-456aa5fa862b"
      },
      "source": [
        "from nltk.corpus import stopwords\n",
        "stop_words=set(stopwords.words(\"english\"))\n",
        "print(stop_words)"
      ],
      "execution_count": 32,
      "outputs": [
        {
          "output_type": "stream",
          "text": [
            "{'own', 'before', 'and', 'those', 'too', 'which', 't', 'from', 'hadn', \"she's\", \"that'll\", 'into', \"shouldn't\", 'with', 'then', 'doesn', 'such', 'll', 'he', 'having', 'further', 'my', \"you're\", 'that', 'against', \"hasn't\", 'between', \"shan't\", \"didn't\", 'haven', 'under', 'their', 'is', 'off', 'not', \"wouldn't\", 'again', 'its', 'above', 'his', 'whom', \"mustn't\", 's', 'itself', 'but', 'while', 'y', 'most', 'they', 'no', 'm', 'couldn', 'on', 'themselves', 'him', \"couldn't\", 'up', 'mightn', 'her', \"haven't\", 'how', 'as', 'we', 'very', \"you'd\", 'these', 'shouldn', 'me', 'your', 'hers', 'himself', 'will', 'shan', 'down', 'am', 'she', 'did', 'because', 've', 'until', 'been', 'over', 'why', \"doesn't\", 'ma', 'just', 'isn', 'd', \"won't\", 'be', 'wouldn', 'don', 'weren', \"needn't\", 'had', 'herself', 'them', \"it's\", 'about', 'has', 'the', 'if', 'can', 'do', 'or', 'where', 'during', 'when', 'should', \"weren't\", 'doing', \"you'll\", 'this', 'didn', 'for', 'being', 'was', 'in', 'nor', 'after', \"should've\", 'there', 'any', 'both', 'ours', 'myself', 're', 'who', 'same', 'you', 'what', \"hadn't\", 'yours', 'an', 'needn', \"mightn't\", 'were', 'at', 'won', \"aren't\", 'o', 'aren', 'more', 'of', 'it', 'to', 'yourselves', 'a', \"wasn't\", 'have', 'ourselves', 'each', 'our', 'than', \"you've\", 'all', 'does', 'theirs', 'hasn', 'ain', 'here', \"don't\", 'mustn', 'through', 'only', 'by', 'below', 'so', 'wasn', \"isn't\", 'yourself', 'now', 'out', 'few', 'i', 'once', 'some', 'are', 'other'}\n"
          ],
          "name": "stdout"
        }
      ]
    },
    {
      "cell_type": "code",
      "metadata": {
        "colab": {
          "base_uri": "https://localhost:8080/"
        },
        "id": "Z7QULMpXJUF_",
        "outputId": "bda61f70-1830-4ae4-8b9d-f0751addfcac"
      },
      "source": [
        "filtered_sent = []\n",
        "for w in tokenized_word:\n",
        "  if w not in stop_words:\n",
        "    filtered_sent.append(w)\n",
        "\n",
        "print(\"Tokenized Sentence:\", tokenized_word)\n",
        "print(\"Filterd Sentence\", filtered_sent)"
      ],
      "execution_count": 33,
      "outputs": [
        {
          "output_type": "stream",
          "text": [
            "Tokenized Sentence: ['Clarke', 'shivered', 'as', 'a', 'gust', 'of', 'wind', 'blew', 'through', 'the', 'clearing', ',', 'rustling', 'the', 'red', 'and', 'gold', 'leaves', 'that', 'still', 'clung', 'to', 'the', 'trees', '.', '``', 'clarke', ',', \"''\", 'someone', 'called', 'faintly', '.']\n",
            "Filterd Sentence ['Clarke', 'shivered', 'gust', 'wind', 'blew', 'clearing', ',', 'rustling', 'red', 'gold', 'leaves', 'still', 'clung', 'trees', '.', '``', 'clarke', ',', \"''\", 'someone', 'called', 'faintly', '.']\n"
          ],
          "name": "stdout"
        }
      ]
    },
    {
      "cell_type": "code",
      "metadata": {
        "colab": {
          "base_uri": "https://localhost:8080/"
        },
        "id": "js0wgPeAfShq",
        "outputId": "119313ad-919b-4743-ffcc-6e4a97631642"
      },
      "source": [
        "from nltk.stem import PorterStemmer\n",
        "from nltk.tokenize import sent_tokenize, word_tokenize\n",
        "\n",
        "ps = PorterStemmer()\n",
        "\n",
        "stemmed_words = []\n",
        "for w in filtered_sent:\n",
        "  stemmed_words.append(ps.stem(w))\n",
        "\n",
        "print(\"Filtered Sentence\", filtered_sent)\n",
        "print(\"Stemmed Sentence\", stemmed_words)"
      ],
      "execution_count": 34,
      "outputs": [
        {
          "output_type": "stream",
          "text": [
            "Filtered Sentence ['Clarke', 'shivered', 'gust', 'wind', 'blew', 'clearing', ',', 'rustling', 'red', 'gold', 'leaves', 'still', 'clung', 'trees', '.', '``', 'clarke', ',', \"''\", 'someone', 'called', 'faintly', '.']\n",
            "Stemmed Sentence ['clark', 'shiver', 'gust', 'wind', 'blew', 'clear', ',', 'rustl', 'red', 'gold', 'leav', 'still', 'clung', 'tree', '.', '``', 'clark', ',', \"''\", 'someon', 'call', 'faintli', '.']\n"
          ],
          "name": "stdout"
        }
      ]
    },
    {
      "cell_type": "code",
      "metadata": {
        "colab": {
          "base_uri": "https://localhost:8080/"
        },
        "id": "AvIP7WDF-nuR",
        "outputId": "7992811e-5678-4499-cbc6-475e7cf6dc1f"
      },
      "source": [
        "nltk.download('wordnet')"
      ],
      "execution_count": 35,
      "outputs": [
        {
          "output_type": "stream",
          "text": [
            "[nltk_data] Downloading package wordnet to /root/nltk_data...\n",
            "[nltk_data]   Package wordnet is already up-to-date!\n"
          ],
          "name": "stdout"
        },
        {
          "output_type": "execute_result",
          "data": {
            "text/plain": [
              "True"
            ]
          },
          "metadata": {
            "tags": []
          },
          "execution_count": 35
        }
      ]
    },
    {
      "cell_type": "code",
      "metadata": {
        "colab": {
          "base_uri": "https://localhost:8080/"
        },
        "id": "CPuQ3_p59Xcp",
        "outputId": "6b5531d6-79c2-4963-dab7-5220e236a9ca"
      },
      "source": [
        "from nltk.stem.wordnet import WordNetLemmatizer\n",
        "lem = WordNetLemmatizer()\n",
        "\n",
        "from nltk.stem.porter import PorterStemmer\n",
        "stem = PorterStemmer()\n",
        "\n",
        "word = \"flying\"\n",
        "print(\"Lemmatized Word:\", lem.lemmatize(word, \"v\"))\n",
        "print(\"Stemmed Word:\", stem.stem(word))"
      ],
      "execution_count": 36,
      "outputs": [
        {
          "output_type": "stream",
          "text": [
            "Lemmatized Word: fly\n",
            "Stemmed Word: fli\n"
          ],
          "name": "stdout"
        }
      ]
    },
    {
      "cell_type": "code",
      "metadata": {
        "colab": {
          "base_uri": "https://localhost:8080/"
        },
        "id": "OEqc1x9D_uVU",
        "outputId": "9a84818b-b39e-4658-ad89-cecd3c7dbf32"
      },
      "source": [
        "sent = \"Albert Einstein was borin in Ulm, Germany in 1879.\"\n",
        "tokens = nltk.word_tokenize(sent)\n",
        "print(tokens)"
      ],
      "execution_count": 37,
      "outputs": [
        {
          "output_type": "stream",
          "text": [
            "['Albert', 'Einstein', 'was', 'borin', 'in', 'Ulm', ',', 'Germany', 'in', '1879', '.']\n"
          ],
          "name": "stdout"
        }
      ]
    },
    {
      "cell_type": "code",
      "metadata": {
        "colab": {
          "base_uri": "https://localhost:8080/"
        },
        "id": "ViiXJqKtAVYp",
        "outputId": "1b3e874c-4091-46e5-c307-3679594525d8"
      },
      "source": [
        "nltk.download('averaged_perceptron_tagger')"
      ],
      "execution_count": 38,
      "outputs": [
        {
          "output_type": "stream",
          "text": [
            "[nltk_data] Downloading package averaged_perceptron_tagger to\n",
            "[nltk_data]     /root/nltk_data...\n",
            "[nltk_data]   Package averaged_perceptron_tagger is already up-to-\n",
            "[nltk_data]       date!\n"
          ],
          "name": "stdout"
        },
        {
          "output_type": "execute_result",
          "data": {
            "text/plain": [
              "True"
            ]
          },
          "metadata": {
            "tags": []
          },
          "execution_count": 38
        }
      ]
    },
    {
      "cell_type": "code",
      "metadata": {
        "colab": {
          "base_uri": "https://localhost:8080/"
        },
        "id": "XV29_tdMAM3x",
        "outputId": "816c3336-173a-42e2-eb13-77e1c9f9dd52"
      },
      "source": [
        "nltk.pos_tag(tokens)"
      ],
      "execution_count": 39,
      "outputs": [
        {
          "output_type": "execute_result",
          "data": {
            "text/plain": [
              "[('Albert', 'NNP'),\n",
              " ('Einstein', 'NNP'),\n",
              " ('was', 'VBD'),\n",
              " ('borin', 'VBN'),\n",
              " ('in', 'IN'),\n",
              " ('Ulm', 'NNP'),\n",
              " (',', ','),\n",
              " ('Germany', 'NNP'),\n",
              " ('in', 'IN'),\n",
              " ('1879', 'CD'),\n",
              " ('.', '.')]"
            ]
          },
          "metadata": {
            "tags": []
          },
          "execution_count": 39
        }
      ]
    },
    {
      "cell_type": "code",
      "metadata": {
        "id": "ZXYUZuWNCOZH"
      },
      "source": [
        "import pandas as pd"
      ],
      "execution_count": 40,
      "outputs": []
    },
    {
      "cell_type": "code",
      "metadata": {
        "id": "vQpIpf0sjzmZ"
      },
      "source": [
        "data = pd.read_csv('/content/train.tsv', sep='\\t')"
      ],
      "execution_count": 42,
      "outputs": []
    },
    {
      "cell_type": "code",
      "metadata": {
        "colab": {
          "base_uri": "https://localhost:8080/",
          "height": 204
        },
        "id": "qx-foG-_kZaI",
        "outputId": "0c23c4bb-7219-4f53-a148-54caf26f55f4"
      },
      "source": [
        "data.head()"
      ],
      "execution_count": 43,
      "outputs": [
        {
          "output_type": "execute_result",
          "data": {
            "text/html": [
              "<div>\n",
              "<style scoped>\n",
              "    .dataframe tbody tr th:only-of-type {\n",
              "        vertical-align: middle;\n",
              "    }\n",
              "\n",
              "    .dataframe tbody tr th {\n",
              "        vertical-align: top;\n",
              "    }\n",
              "\n",
              "    .dataframe thead th {\n",
              "        text-align: right;\n",
              "    }\n",
              "</style>\n",
              "<table border=\"1\" class=\"dataframe\">\n",
              "  <thead>\n",
              "    <tr style=\"text-align: right;\">\n",
              "      <th></th>\n",
              "      <th>PhraseId</th>\n",
              "      <th>SentenceId</th>\n",
              "      <th>Phrase</th>\n",
              "      <th>Sentiment</th>\n",
              "    </tr>\n",
              "  </thead>\n",
              "  <tbody>\n",
              "    <tr>\n",
              "      <th>0</th>\n",
              "      <td>1</td>\n",
              "      <td>1</td>\n",
              "      <td>A series of escapades demonstrating the adage ...</td>\n",
              "      <td>1</td>\n",
              "    </tr>\n",
              "    <tr>\n",
              "      <th>1</th>\n",
              "      <td>2</td>\n",
              "      <td>1</td>\n",
              "      <td>A series of escapades demonstrating the adage ...</td>\n",
              "      <td>2</td>\n",
              "    </tr>\n",
              "    <tr>\n",
              "      <th>2</th>\n",
              "      <td>3</td>\n",
              "      <td>1</td>\n",
              "      <td>A series</td>\n",
              "      <td>2</td>\n",
              "    </tr>\n",
              "    <tr>\n",
              "      <th>3</th>\n",
              "      <td>4</td>\n",
              "      <td>1</td>\n",
              "      <td>A</td>\n",
              "      <td>2</td>\n",
              "    </tr>\n",
              "    <tr>\n",
              "      <th>4</th>\n",
              "      <td>5</td>\n",
              "      <td>1</td>\n",
              "      <td>series</td>\n",
              "      <td>2</td>\n",
              "    </tr>\n",
              "  </tbody>\n",
              "</table>\n",
              "</div>"
            ],
            "text/plain": [
              "   PhraseId  ...  Sentiment\n",
              "0         1  ...          1\n",
              "1         2  ...          2\n",
              "2         3  ...          2\n",
              "3         4  ...          2\n",
              "4         5  ...          2\n",
              "\n",
              "[5 rows x 4 columns]"
            ]
          },
          "metadata": {
            "tags": []
          },
          "execution_count": 43
        }
      ]
    },
    {
      "cell_type": "code",
      "metadata": {
        "colab": {
          "base_uri": "https://localhost:8080/"
        },
        "id": "NVhUkMJvlzYW",
        "outputId": "ce9cbaab-89f2-4fe8-bc0c-4792f1035039"
      },
      "source": [
        "data.info()"
      ],
      "execution_count": 45,
      "outputs": [
        {
          "output_type": "stream",
          "text": [
            "<class 'pandas.core.frame.DataFrame'>\n",
            "RangeIndex: 156060 entries, 0 to 156059\n",
            "Data columns (total 4 columns):\n",
            " #   Column      Non-Null Count   Dtype \n",
            "---  ------      --------------   ----- \n",
            " 0   PhraseId    156060 non-null  int64 \n",
            " 1   SentenceId  156060 non-null  int64 \n",
            " 2   Phrase      156060 non-null  object\n",
            " 3   Sentiment   156060 non-null  int64 \n",
            "dtypes: int64(3), object(1)\n",
            "memory usage: 4.8+ MB\n"
          ],
          "name": "stdout"
        }
      ]
    },
    {
      "cell_type": "code",
      "metadata": {
        "colab": {
          "base_uri": "https://localhost:8080/"
        },
        "id": "0FBO9z9Gl41V",
        "outputId": "db95620e-1fb1-49c8-c4b0-a7b6775f7875"
      },
      "source": [
        "data.Sentiment.value_counts()"
      ],
      "execution_count": 46,
      "outputs": [
        {
          "output_type": "execute_result",
          "data": {
            "text/plain": [
              "2    79582\n",
              "3    32927\n",
              "1    27273\n",
              "4     9206\n",
              "0     7072\n",
              "Name: Sentiment, dtype: int64"
            ]
          },
          "metadata": {
            "tags": []
          },
          "execution_count": 46
        }
      ]
    },
    {
      "cell_type": "code",
      "metadata": {
        "colab": {
          "base_uri": "https://localhost:8080/",
          "height": 279
        },
        "id": "Th-KQQqzmAec",
        "outputId": "76a8a6de-bd60-4afc-80b9-fa5d1274476e"
      },
      "source": [
        "Sentiment_count = data.groupby('Sentiment').count()\n",
        "plt.bar(Sentiment_count.index.values, Sentiment_count['Phrase'])\n",
        "plt.xlabel('Review Sentiments')\n",
        "plt.ylabel('Number of Review')\n",
        "plt.show()"
      ],
      "execution_count": 47,
      "outputs": [
        {
          "output_type": "display_data",
          "data": {
            "image/png": "[encoded data removed]",
            "text/plain": [
              "<Figure size 432x288 with 1 Axes>"
            ]
          },
          "metadata": {
            "tags": [],
            "needs_background": "light"
          }
        }
      ]
    }
  ]
}