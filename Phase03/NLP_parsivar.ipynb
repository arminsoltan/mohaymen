{
  "nbformat": 4,
  "nbformat_minor": 0,
  "metadata": {
    "colab": {
      "name": "NLP_parsivar.ipynb",
      "provenance": [],
      "authorship_tag": "ABX9TyNM5NLcpBdkVcGyiTwuYQV/",
      "include_colab_link": true
    },
    "kernelspec": {
      "name": "python3",
      "display_name": "Python 3"
    },
    "language_info": {
      "name": "python"
    }
  },
  "cells": [
    {
      "cell_type": "markdown",
      "metadata": {
        "id": "view-in-github",
        "colab_type": "text"
      },
      "source": [
        "<a href=\"https://colab.research.google.com/github/arminsoltan/mohaymen/blob/main/Phase03/NLP_parsivar.ipynb\" target=\"_parent\"><img src=\"https://colab.research.google.com/assets/colab-badge.svg\" alt=\"Open In Colab\"/></a>"
      ]
    },
    {
      "cell_type": "code",
      "metadata": {
        "colab": {
          "base_uri": "https://localhost:8080/"
        },
        "id": "qNdE-2kglt41",
        "outputId": "d38beb1b-1dec-4e2d-e2f3-6e7602d92bde"
      },
      "source": [
        "!pip3 install nltk==3.4.5"
      ],
      "execution_count": 1,
      "outputs": [
        {
          "output_type": "stream",
          "text": [
            "Collecting nltk==3.4.5\n",
            "  Downloading nltk-3.4.5.zip (1.5 MB)\n",
            "\u001b[K     |████████████████████████████████| 1.5 MB 5.1 MB/s \n",
            "\u001b[?25hRequirement already satisfied: six in /usr/local/lib/python3.7/dist-packages (from nltk==3.4.5) (1.15.0)\n",
            "Building wheels for collected packages: nltk\n",
            "  Building wheel for nltk (setup.py) ... \u001b[?25l\u001b[?25hdone\n",
            "  Created wheel for nltk: filename=nltk-3.4.5-py3-none-any.whl size=1449923 sha256=cd9e5e440a43c2976ca1683d62a80be15c341b2692b8e4e4c537f4a2e8682f53\n",
            "  Stored in directory: /root/.cache/pip/wheels/48/8b/7f/473521e0c731c6566d631b281f323842bbda9bd819eb9a3ead\n",
            "Successfully built nltk\n",
            "Installing collected packages: nltk\n",
            "  Attempting uninstall: nltk\n",
            "    Found existing installation: nltk 3.2.5\n",
            "    Uninstalling nltk-3.2.5:\n",
            "      Successfully uninstalled nltk-3.2.5\n",
            "Successfully installed nltk-3.4.5\n"
          ],
          "name": "stdout"
        }
      ]
    },
    {
      "cell_type": "code",
      "metadata": {
        "colab": {
          "base_uri": "https://localhost:8080/"
        },
        "id": "k1BkUHKtHcpF",
        "outputId": "d8ac70de-1b82-4cdd-f370-41c58f0e97cd"
      },
      "source": [
        "!pip3 install parsivar"
      ],
      "execution_count": 2,
      "outputs": [
        {
          "output_type": "stream",
          "text": [
            "Collecting parsivar\n",
            "  Downloading parsivar-0.2.3.tar.gz (36.2 MB)\n",
            "\u001b[K     |████████████████████████████████| 36.2 MB 60 kB/s \n",
            "\u001b[?25hRequirement already satisfied: nltk==3.4.5 in /usr/local/lib/python3.7/dist-packages (from parsivar) (3.4.5)\n",
            "Requirement already satisfied: six in /usr/local/lib/python3.7/dist-packages (from nltk==3.4.5->parsivar) (1.15.0)\n",
            "Building wheels for collected packages: parsivar\n",
            "  Building wheel for parsivar (setup.py) ... \u001b[?25l\u001b[?25hdone\n",
            "  Created wheel for parsivar: filename=parsivar-0.2.3-py3-none-any.whl size=36492971 sha256=82f3150fa960fe564e4f2d236662b87a7be6b64409e309dee347faff3e08842e\n",
            "  Stored in directory: /root/.cache/pip/wheels/ae/67/7a/49cbf08f64d3f76a26eceaf0e481a40e233f05d4356875cbed\n",
            "Successfully built parsivar\n",
            "Installing collected packages: parsivar\n",
            "Successfully installed parsivar-0.2.3\n"
          ],
          "name": "stdout"
        }
      ]
    },
    {
      "cell_type": "code",
      "metadata": {
        "colab": {
          "base_uri": "https://localhost:8080/"
        },
        "id": "yEobMQ2Bkj8o",
        "outputId": "de831368-d5d4-47fb-b319-8e6033c033b3"
      },
      "source": [
        "!pip3 install hazm"
      ],
      "execution_count": 3,
      "outputs": [
        {
          "output_type": "stream",
          "text": [
            "Collecting hazm\n",
            "  Downloading hazm-0.7.0-py3-none-any.whl (316 kB)\n",
            "\u001b[K     |████████████████████████████████| 316 kB 5.3 MB/s \n",
            "\u001b[?25hCollecting libwapiti>=0.2.1\n",
            "  Downloading libwapiti-0.2.1.tar.gz (233 kB)\n",
            "\u001b[K     |████████████████████████████████| 233 kB 26.1 MB/s \n",
            "\u001b[?25hCollecting nltk==3.3\n",
            "  Downloading nltk-3.3.0.zip (1.4 MB)\n",
            "\u001b[K     |████████████████████████████████| 1.4 MB 51.2 MB/s \n",
            "\u001b[?25hRequirement already satisfied: six in /usr/local/lib/python3.7/dist-packages (from nltk==3.3->hazm) (1.15.0)\n",
            "Building wheels for collected packages: nltk, libwapiti\n",
            "  Building wheel for nltk (setup.py) ... \u001b[?25l\u001b[?25hdone\n",
            "  Created wheel for nltk: filename=nltk-3.3-py3-none-any.whl size=1394484 sha256=658ea50d9c1059b252d2bde7eecfb23cb273eafe55f983f002da8929913794f1\n",
            "  Stored in directory: /root/.cache/pip/wheels/9b/fd/0c/d92302c876e5de87ebd7fc0979d82edb93e2d8d768bf71fac4\n",
            "  Building wheel for libwapiti (setup.py) ... \u001b[?25l\u001b[?25hdone\n",
            "  Created wheel for libwapiti: filename=libwapiti-0.2.1-cp37-cp37m-linux_x86_64.whl size=154614 sha256=d6baf199039a34570cf62a814046765255f26ecef11a645f1280b464d0e94597\n",
            "  Stored in directory: /root/.cache/pip/wheels/ab/b2/5b/0fe4b8f5c0e65341e8ea7bb3f4a6ebabfe8b1ac31322392dbf\n",
            "Successfully built nltk libwapiti\n",
            "Installing collected packages: nltk, libwapiti, hazm\n",
            "  Attempting uninstall: nltk\n",
            "    Found existing installation: nltk 3.4.5\n",
            "    Uninstalling nltk-3.4.5:\n",
            "      Successfully uninstalled nltk-3.4.5\n",
            "\u001b[31mERROR: pip's dependency resolver does not currently take into account all the packages that are installed. This behaviour is the source of the following dependency conflicts.\n",
            "parsivar 0.2.3 requires nltk==3.4.5, but you have nltk 3.3 which is incompatible.\u001b[0m\n",
            "Successfully installed hazm-0.7.0 libwapiti-0.2.1 nltk-3.3\n"
          ],
          "name": "stdout"
        }
      ]
    },
    {
      "cell_type": "code",
      "metadata": {
        "id": "cEojwXBQHEbD"
      },
      "source": [
        "from parsivar import POSTagger"
      ],
      "execution_count": 4,
      "outputs": []
    },
    {
      "cell_type": "code",
      "metadata": {
        "colab": {
          "base_uri": "https://localhost:8080/"
        },
        "id": "sDXFaHMGL04y",
        "outputId": "ebd4fe52-08e1-4167-befd-2e4baaf6588b"
      },
      "source": [
        "!python --version"
      ],
      "execution_count": 5,
      "outputs": [
        {
          "output_type": "stream",
          "text": [
            "Python 3.7.11\n"
          ],
          "name": "stdout"
        }
      ]
    },
    {
      "cell_type": "code",
      "metadata": {
        "colab": {
          "base_uri": "https://localhost:8080/"
        },
        "id": "IbGr3z5pNzg8",
        "outputId": "f70b7c04-0253-4d10-b7a8-417b24b466b5"
      },
      "source": [
        "tmp_text = \"این سمینار تا ۱۳ شهریور ادامه دارد.\"\n",
        "from parsivar import Normalizer\n",
        "normalizer = Normalizer()\n",
        "print(normalizer.normalize(tmp_text))"
      ],
      "execution_count": 6,
      "outputs": [
        {
          "output_type": "stream",
          "text": [
            "این سمینار تا 13 شهریور ادامه دارد .\n"
          ],
          "name": "stdout"
        }
      ]
    },
    {
      "cell_type": "code",
      "metadata": {
        "colab": {
          "base_uri": "https://localhost:8080/"
        },
        "id": "QVXX7eu-OHxp",
        "outputId": "ad6264bd-5776-402f-f6dc-d37ab95d868d"
      },
      "source": [
        "normalizer = Normalizer(statistical_space_correction=True)\n",
        "print(normalizer.normalize(tmp_text))"
      ],
      "execution_count": 7,
      "outputs": [
        {
          "output_type": "stream",
          "text": [
            "این سمینار تا 13 شهریور ادامه دارد . \n"
          ],
          "name": "stdout"
        }
      ]
    },
    {
      "cell_type": "code",
      "metadata": {
        "colab": {
          "base_uri": "https://localhost:8080/"
        },
        "id": "cU--6cneOZ-q",
        "outputId": "8d3ec200-1e53-4daf-e5fe-1764e29c51e0"
      },
      "source": [
        "normalizer = Normalizer(date_normalizing_needed=True)\n",
        "print(normalizer.normalize(tmp_text))"
      ],
      "execution_count": 8,
      "outputs": [
        {
          "output_type": "stream",
          "text": [
            "این سمینار تا y0m6d13 ادامه دارد .\n"
          ],
          "name": "stdout"
        }
      ]
    },
    {
      "cell_type": "code",
      "metadata": {
        "colab": {
          "base_uri": "https://localhost:8080/"
        },
        "id": "dFe_OVpmOk_h",
        "outputId": "2f2c861c-8969-4e3a-f194-d32184ada9a9"
      },
      "source": [
        "normalizer = Normalizer(pinglish_conversion_needed=True)\n",
        "print(normalizer.normalize(\"een seminar ta 13 shahrivar edame yabad.\"))"
      ],
      "execution_count": 9,
      "outputs": [
        {
          "output_type": "stream",
          "text": [
            "این سمینار تا 13 شهریور ادامه یابد .\n"
          ],
          "name": "stdout"
        }
      ]
    },
    {
      "cell_type": "code",
      "metadata": {
        "colab": {
          "base_uri": "https://localhost:8080/"
        },
        "id": "O32GsNO6P7oC",
        "outputId": "78dfd462-f4cc-44db-d867-f0707d0687cf"
      },
      "source": [
        "from parsivar import Tokenizer\n",
        "normalizer = Normalizer()\n",
        "tokenizer = Tokenizer()\n",
        "sents = tokenizer.tokenize_sentences(normalizer.normalize(tmp_text))\n",
        "print(sents)"
      ],
      "execution_count": 10,
      "outputs": [
        {
          "output_type": "stream",
          "text": [
            "['این سمینار تا 13 شهریور ادامه دارد  .']\n"
          ],
          "name": "stdout"
        }
      ]
    },
    {
      "cell_type": "code",
      "metadata": {
        "colab": {
          "base_uri": "https://localhost:8080/"
        },
        "id": "lSp1ZB35P-Fj",
        "outputId": "550cfdc1-58a5-4a96-aedd-a3522548ce4a"
      },
      "source": [
        "words = tokenizer.tokenize_words(normalizer.normalize(tmp_text))\n",
        "print(words)"
      ],
      "execution_count": 11,
      "outputs": [
        {
          "output_type": "stream",
          "text": [
            "['این', 'سمینار', 'تا', '13', 'شهریور', 'ادامه', 'دارد', '.']\n"
          ],
          "name": "stdout"
        }
      ]
    },
    {
      "cell_type": "code",
      "metadata": {
        "colab": {
          "base_uri": "https://localhost:8080/"
        },
        "id": "QeCPxbbUQQFD",
        "outputId": "baaec5c6-1528-4c57-9e2c-e2299db42c91"
      },
      "source": [
        "from parsivar import FindStems\n",
        "stemmer = FindStems()\n",
        "text_tags = stemmer.convert_to_stem(tmp_text)\n",
        "print(text_tags)"
      ],
      "execution_count": 12,
      "outputs": [
        {
          "output_type": "stream",
          "text": [
            "این سمینار تا ۱۳ شهریور ادامه دارد.\n"
          ],
          "name": "stdout"
        }
      ]
    },
    {
      "cell_type": "code",
      "metadata": {
        "colab": {
          "base_uri": "https://localhost:8080/"
        },
        "id": "219EY4-uHKg3",
        "outputId": "7f49c32e-f24c-48b3-898e-8dd6979a7e9e"
      },
      "source": [
        "tagger = POSTagger(tagging_model=\"stanford\")\n",
        "text = \"این سمینار تا ۱۳ شهریور ادامه می یابد.\"\n",
        "text_tags = tagger.parse(tokenizer.tokenize_words(text))\n",
        "print(text_tags) "
      ],
      "execution_count": 13,
      "outputs": [
        {
          "output_type": "stream",
          "text": [
            "[('این', 'DET'), ('سمینار', 'N'), ('تا', 'PO'), ('۱۳', 'N'), ('شهریور', 'N'), ('ادامه', 'N'), ('می', 'N'), ('یابد.', 'DELM')]\n"
          ],
          "name": "stdout"
        }
      ]
    },
    {
      "cell_type": "code",
      "metadata": {
        "colab": {
          "base_uri": "https://localhost:8080/"
        },
        "id": "wjlQjCjBT-ic",
        "outputId": "67cedf15-d3a4-4196-eca9-2804dbcc2fd4"
      },
      "source": [
        "from parsivar import FindChunks\n",
        "chunker = FindChunks()\n",
        "chunks = chunker.chunk_sentence(text_tags)\n",
        "print(chunker.convert_nestedtree2rawstring(chunks))"
      ],
      "execution_count": 14,
      "outputs": [
        {
          "output_type": "stream",
          "text": [
            "[این سمینار DNP] تا [۱۳ شهریور ادامه می NP] یابد.\n"
          ],
          "name": "stdout"
        }
      ]
    },
    {
      "cell_type": "code",
      "metadata": {
        "colab": {
          "base_uri": "https://localhost:8080/"
        },
        "id": "vlUVyx5oUYv-",
        "outputId": "eca5df61-f27c-4913-a308-c3a5159a5de4"
      },
      "source": [
        "from parsivar import DependencyParser\n",
        "parser = DependencyParser()\n",
        "sents = text\n",
        "sent_list = tokenizer.tokenize_sentences(sents)\n",
        "parsed_sents = parser.parse_sents(sent_list)\n",
        "for depgraph in parsed_sents:\n",
        "  print(depgraph.tree())"
      ],
      "execution_count": 15,
      "outputs": [
        {
          "output_type": "stream",
          "text": [
            "(یابد (سمینار این) (تا (شهریور ۱۳)) ادامه می .)\n"
          ],
          "name": "stdout"
        }
      ]
    },
    {
      "cell_type": "code",
      "metadata": {
        "colab": {
          "base_uri": "https://localhost:8080/"
        },
        "id": "bMX6DQXQWaIf",
        "outputId": "260dfa47-802b-42ca-a8aa-f6747bf19590"
      },
      "source": [
        "from parsivar import SpellCheck\n",
        "spell_checker = SpellCheck()\n",
        "res = spell_checker.spell_corrector(\"نماذگذاران وارد مسلی شدند\")\n",
        "print(res)"
      ],
      "execution_count": 20,
      "outputs": [
        {
          "output_type": "stream",
          "text": [
            "نمازگذاران وارد مصلی شدند\n"
          ],
          "name": "stdout"
        }
      ]
    }
  ]
}